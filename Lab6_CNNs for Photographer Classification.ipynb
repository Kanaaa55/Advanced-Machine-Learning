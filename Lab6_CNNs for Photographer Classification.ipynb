{
 "cells": [
  {
   "cell_type": "markdown",
   "id": "b0be8595",
   "metadata": {},
   "source": [
    "## Approach 1: \n",
    "\n",
    "* Train a (convolutional) neural network to identify whether or not there is a human in the image.\n",
    "* Train a (convolutional) neural network to identify whether or not there is a castle in the image.\n",
    "* Train a (convolutional) neural network to identify whether the image is taken indoors or outdoors.\n",
    "* Train a (convolutional) neural network to identify the landscape of the image (e.g. city, suburb, or nature/rural)\n",
    "* Choose at least 10 other features (or feature categories) that you suspect might be useful for differentiating Alex and Kelly's photos, and train individual (convolutional) neural networks to identify those."
   ]
  },
  {
   "cell_type": "markdown",
   "id": "ddedb279",
   "metadata": {},
   "source": [
    "### Import Libraries and Data"
   ]
  },
  {
   "cell_type": "code",
   "execution_count": 18,
   "id": "2e23bc5c",
   "metadata": {},
   "outputs": [],
   "source": [
    "import os\n",
    "import numpy as np\n",
    "import tensorflow as tf\n",
    "from tensorflow.keras.preprocessing.image import ImageDataGenerator\n",
    "from tensorflow.keras.models import Sequential\n",
    "from tensorflow.keras.layers import Conv2D, MaxPooling2D, Flatten, Dense, Dropout\n",
    "from tensorflow.keras.applications import VGG16\n",
    "from tensorflow.keras.applications.vgg16 import preprocess_input\n",
    "from sklearn.model_selection import train_test_split\n",
    "from sklearn.ensemble import RandomForestClassifier\n",
    "from sklearn.metrics import classification_report, accuracy_score\n",
    "from tensorflow.keras.preprocessing import image\n",
    "\n",
    "# Set data directory\n",
    "data_dir = '/Users/ruojiakuang/Desktop/GSB 545 Advanced ML/Lab 6 Data/Alex_Kelly_Pics'"
   ]
  },
  {
   "cell_type": "markdown",
   "id": "298faa9f",
   "metadata": {},
   "source": [
    "### Split training and validating data then Create and Train CNN Model"
   ]
  },
  {
   "cell_type": "code",
   "execution_count": 19,
   "id": "0840dc1a",
   "metadata": {},
   "outputs": [
    {
     "name": "stdout",
     "output_type": "stream",
     "text": [
      "Found 469 images belonging to 3 classes.\n",
      "Found 116 images belonging to 3 classes.\n"
     ]
    }
   ],
   "source": [
    "def load_and_preprocess_images(data_dir, target_size=(128, 128), batch_size=32, subset='training'):\n",
    "    datagen = ImageDataGenerator(preprocessing_function=preprocess_input, validation_split=0.2)\n",
    "    generator = datagen.flow_from_directory(\n",
    "        data_dir,\n",
    "        target_size=target_size,\n",
    "        batch_size=batch_size,\n",
    "        class_mode='binary',\n",
    "        subset=subset,\n",
    "        shuffle=True\n",
    "    )\n",
    "    return generator\n",
    "\n",
    "# Loading and preprocessing training and validation data\n",
    "train_generator = load_and_preprocess_images(data_dir, subset='training')\n",
    "val_generator = load_and_preprocess_images(data_dir, subset='validation')"
   ]
  },
  {
   "cell_type": "code",
   "execution_count": 20,
   "id": "9b1be40f",
   "metadata": {},
   "outputs": [
    {
     "name": "stdout",
     "output_type": "stream",
     "text": [
      "Epoch 1/10\n",
      "\u001b[1m15/15\u001b[0m \u001b[32m━━━━━━━━━━━━━━━━━━━━\u001b[0m\u001b[37m\u001b[0m \u001b[1m11s\u001b[0m 504ms/step - accuracy: 0.4097 - loss: 70.5038 - val_accuracy: 0.4828 - val_loss: -1.6040\n",
      "Epoch 2/10\n",
      "\u001b[1m15/15\u001b[0m \u001b[32m━━━━━━━━━━━━━━━━━━━━\u001b[0m\u001b[37m\u001b[0m \u001b[1m8s\u001b[0m 449ms/step - accuracy: 0.4605 - loss: -4.0291 - val_accuracy: 0.4569 - val_loss: -48.5956\n",
      "Epoch 3/10\n",
      "\u001b[1m15/15\u001b[0m \u001b[32m━━━━━━━━━━━━━━━━━━━━\u001b[0m\u001b[37m\u001b[0m \u001b[1m8s\u001b[0m 432ms/step - accuracy: 0.4783 - loss: -105.7389 - val_accuracy: 0.4138 - val_loss: -681.1088\n",
      "Epoch 4/10\n",
      "\u001b[1m15/15\u001b[0m \u001b[32m━━━━━━━━━━━━━━━━━━━━\u001b[0m\u001b[37m\u001b[0m \u001b[1m8s\u001b[0m 419ms/step - accuracy: 0.4651 - loss: -1088.4991 - val_accuracy: 0.4655 - val_loss: -6138.5073\n",
      "Epoch 5/10\n",
      "\u001b[1m15/15\u001b[0m \u001b[32m━━━━━━━━━━━━━━━━━━━━\u001b[0m\u001b[37m\u001b[0m \u001b[1m8s\u001b[0m 424ms/step - accuracy: 0.4502 - loss: -9491.5664 - val_accuracy: 0.4052 - val_loss: -33677.5000\n",
      "Epoch 6/10\n",
      "\u001b[1m15/15\u001b[0m \u001b[32m━━━━━━━━━━━━━━━━━━━━\u001b[0m\u001b[37m\u001b[0m \u001b[1m8s\u001b[0m 441ms/step - accuracy: 0.4551 - loss: -51373.6328 - val_accuracy: 0.4138 - val_loss: -140006.2344\n",
      "Epoch 7/10\n",
      "\u001b[1m15/15\u001b[0m \u001b[32m━━━━━━━━━━━━━━━━━━━━\u001b[0m\u001b[37m\u001b[0m \u001b[1m8s\u001b[0m 436ms/step - accuracy: 0.4533 - loss: -208672.9688 - val_accuracy: 0.5000 - val_loss: -488785.4375\n",
      "Epoch 8/10\n",
      "\u001b[1m15/15\u001b[0m \u001b[32m━━━━━━━━━━━━━━━━━━━━\u001b[0m\u001b[37m\u001b[0m \u001b[1m8s\u001b[0m 422ms/step - accuracy: 0.4739 - loss: -725826.7500 - val_accuracy: 0.4397 - val_loss: -1366229.3750\n",
      "Epoch 9/10\n",
      "\u001b[1m15/15\u001b[0m \u001b[32m━━━━━━━━━━━━━━━━━━━━\u001b[0m\u001b[37m\u001b[0m \u001b[1m8s\u001b[0m 425ms/step - accuracy: 0.4451 - loss: -1763433.8750 - val_accuracy: 0.4655 - val_loss: -3251430.0000\n",
      "Epoch 10/10\n",
      "\u001b[1m15/15\u001b[0m \u001b[32m━━━━━━━━━━━━━━━━━━━━\u001b[0m\u001b[37m\u001b[0m \u001b[1m8s\u001b[0m 461ms/step - accuracy: 0.4856 - loss: -3187856.2500 - val_accuracy: 0.4483 - val_loss: -6896230.5000\n",
      "Epoch 1/10\n",
      "\u001b[1m15/15\u001b[0m \u001b[32m━━━━━━━━━━━━━━━━━━━━\u001b[0m\u001b[37m\u001b[0m \u001b[1m11s\u001b[0m 470ms/step - accuracy: 0.4567 - loss: 22.8965 - val_accuracy: 0.4741 - val_loss: -4.5041\n",
      "Epoch 2/10\n",
      "\u001b[1m15/15\u001b[0m \u001b[32m━━━━━━━━━━━━━━━━━━━━\u001b[0m\u001b[37m\u001b[0m \u001b[1m8s\u001b[0m 436ms/step - accuracy: 0.4498 - loss: -43.3974 - val_accuracy: 0.4741 - val_loss: -120.1486\n",
      "Epoch 3/10\n",
      "\u001b[1m15/15\u001b[0m \u001b[32m━━━━━━━━━━━━━━━━━━━━\u001b[0m\u001b[37m\u001b[0m \u001b[1m8s\u001b[0m 446ms/step - accuracy: 0.4884 - loss: -565.1837 - val_accuracy: 0.4224 - val_loss: -310.7771\n",
      "Epoch 4/10\n",
      "\u001b[1m15/15\u001b[0m \u001b[32m━━━━━━━━━━━━━━━━━━━━\u001b[0m\u001b[37m\u001b[0m \u001b[1m8s\u001b[0m 423ms/step - accuracy: 0.4389 - loss: -3848.8420 - val_accuracy: 0.4655 - val_loss: -6845.7686\n",
      "Epoch 5/10\n",
      "\u001b[1m15/15\u001b[0m \u001b[32m━━━━━━━━━━━━━━━━━━━━\u001b[0m\u001b[37m\u001b[0m \u001b[1m8s\u001b[0m 441ms/step - accuracy: 0.4830 - loss: -27102.4043 - val_accuracy: 0.4741 - val_loss: -27617.6895\n",
      "Epoch 6/10\n",
      "\u001b[1m15/15\u001b[0m \u001b[32m━━━━━━━━━━━━━━━━━━━━\u001b[0m\u001b[37m\u001b[0m \u001b[1m8s\u001b[0m 421ms/step - accuracy: 0.4756 - loss: -63463.8594 - val_accuracy: 0.4569 - val_loss: -47516.6484\n",
      "Epoch 7/10\n",
      "\u001b[1m15/15\u001b[0m \u001b[32m━━━━━━━━━━━━━━━━━━━━\u001b[0m\u001b[37m\u001b[0m \u001b[1m8s\u001b[0m 443ms/step - accuracy: 0.4658 - loss: -289070.3125 - val_accuracy: 0.5000 - val_loss: -224666.6875\n",
      "Epoch 8/10\n",
      "\u001b[1m15/15\u001b[0m \u001b[32m━━━━━━━━━━━━━━━━━━━━\u001b[0m\u001b[37m\u001b[0m \u001b[1m8s\u001b[0m 437ms/step - accuracy: 0.4602 - loss: -662765.4375 - val_accuracy: 0.4397 - val_loss: -450259.1875\n",
      "Epoch 9/10\n",
      "\u001b[1m15/15\u001b[0m \u001b[32m━━━━━━━━━━━━━━━━━━━━\u001b[0m\u001b[37m\u001b[0m \u001b[1m8s\u001b[0m 433ms/step - accuracy: 0.4711 - loss: -2054611.7500 - val_accuracy: 0.4397 - val_loss: -1002210.6875\n",
      "Epoch 10/10\n",
      "\u001b[1m15/15\u001b[0m \u001b[32m━━━━━━━━━━━━━━━━━━━━\u001b[0m\u001b[37m\u001b[0m \u001b[1m8s\u001b[0m 444ms/step - accuracy: 0.4627 - loss: -3627524.5000 - val_accuracy: 0.4310 - val_loss: -2065035.1250\n",
      "Epoch 1/10\n",
      "\u001b[1m15/15\u001b[0m \u001b[32m━━━━━━━━━━━━━━━━━━━━\u001b[0m\u001b[37m\u001b[0m \u001b[1m10s\u001b[0m 476ms/step - accuracy: 0.4318 - loss: 44.0111 - val_accuracy: 0.4655 - val_loss: -0.5166\n",
      "Epoch 2/10\n",
      "\u001b[1m15/15\u001b[0m \u001b[32m━━━━━━━━━━━━━━━━━━━━\u001b[0m\u001b[37m\u001b[0m \u001b[1m8s\u001b[0m 433ms/step - accuracy: 0.4994 - loss: -0.7155 - val_accuracy: 0.4914 - val_loss: -5.4534\n",
      "Epoch 3/10\n",
      "\u001b[1m15/15\u001b[0m \u001b[32m━━━━━━━━━━━━━━━━━━━━\u001b[0m\u001b[37m\u001b[0m \u001b[1m8s\u001b[0m 421ms/step - accuracy: 0.5357 - loss: -29.8139 - val_accuracy: 0.4655 - val_loss: -62.7237\n",
      "Epoch 4/10\n",
      "\u001b[1m15/15\u001b[0m \u001b[32m━━━━━━━━━━━━━━━━━━━━\u001b[0m\u001b[37m\u001b[0m \u001b[1m8s\u001b[0m 461ms/step - accuracy: 0.4940 - loss: -206.4788 - val_accuracy: 0.4741 - val_loss: -457.9229\n",
      "Epoch 5/10\n",
      "\u001b[1m15/15\u001b[0m \u001b[32m━━━━━━━━━━━━━━━━━━━━\u001b[0m\u001b[37m\u001b[0m \u001b[1m8s\u001b[0m 441ms/step - accuracy: 0.5215 - loss: -2041.1801 - val_accuracy: 0.4914 - val_loss: -4001.8823\n",
      "Epoch 6/10\n",
      "\u001b[1m15/15\u001b[0m \u001b[32m━━━━━━━━━━━━━━━━━━━━\u001b[0m\u001b[37m\u001b[0m \u001b[1m8s\u001b[0m 422ms/step - accuracy: 0.5005 - loss: -12195.0674 - val_accuracy: 0.4569 - val_loss: -14443.6699\n",
      "Epoch 7/10\n",
      "\u001b[1m15/15\u001b[0m \u001b[32m━━━━━━━━━━━━━━━━━━━━\u001b[0m\u001b[37m\u001b[0m \u001b[1m8s\u001b[0m 426ms/step - accuracy: 0.4938 - loss: -31300.8301 - val_accuracy: 0.4741 - val_loss: -47940.0742\n",
      "Epoch 8/10\n",
      "\u001b[1m15/15\u001b[0m \u001b[32m━━━━━━━━━━━━━━━━━━━━\u001b[0m\u001b[37m\u001b[0m \u001b[1m8s\u001b[0m 437ms/step - accuracy: 0.5358 - loss: -118914.0391 - val_accuracy: 0.4397 - val_loss: -163512.1875\n",
      "Epoch 9/10\n",
      "\u001b[1m15/15\u001b[0m \u001b[32m━━━━━━━━━━━━━━━━━━━━\u001b[0m\u001b[37m\u001b[0m \u001b[1m8s\u001b[0m 457ms/step - accuracy: 0.5244 - loss: -247835.6562 - val_accuracy: 0.4569 - val_loss: -349701.5625\n",
      "Epoch 10/10\n",
      "\u001b[1m15/15\u001b[0m \u001b[32m━━━━━━━━━━━━━━━━━━━━\u001b[0m\u001b[37m\u001b[0m \u001b[1m8s\u001b[0m 422ms/step - accuracy: 0.5162 - loss: -1052036.2500 - val_accuracy: 0.4655 - val_loss: -952332.8750\n",
      "Epoch 1/10\n",
      "\u001b[1m15/15\u001b[0m \u001b[32m━━━━━━━━━━━━━━━━━━━━\u001b[0m\u001b[37m\u001b[0m \u001b[1m10s\u001b[0m 489ms/step - accuracy: 0.3891 - loss: 25.6091 - val_accuracy: 0.4483 - val_loss: -15.0416\n",
      "Epoch 2/10\n",
      "\u001b[1m15/15\u001b[0m \u001b[32m━━━━━━━━━━━━━━━━━━━━\u001b[0m\u001b[37m\u001b[0m \u001b[1m8s\u001b[0m 419ms/step - accuracy: 0.4294 - loss: -102.4410 - val_accuracy: 0.4655 - val_loss: -486.5219\n",
      "Epoch 3/10\n",
      "\u001b[1m15/15\u001b[0m \u001b[32m━━━━━━━━━━━━━━━━━━━━\u001b[0m\u001b[37m\u001b[0m \u001b[1m8s\u001b[0m 422ms/step - accuracy: 0.5185 - loss: -1873.6387 - val_accuracy: 0.4828 - val_loss: -4301.5029\n",
      "Epoch 4/10\n",
      "\u001b[1m15/15\u001b[0m \u001b[32m━━━━━━━━━━━━━━━━━━━━\u001b[0m\u001b[37m\u001b[0m \u001b[1m8s\u001b[0m 443ms/step - accuracy: 0.4700 - loss: -10940.1553 - val_accuracy: 0.4655 - val_loss: -17789.3965\n",
      "Epoch 5/10\n",
      "\u001b[1m15/15\u001b[0m \u001b[32m━━━━━━━━━━━━━━━━━━━━\u001b[0m\u001b[37m\u001b[0m \u001b[1m8s\u001b[0m 431ms/step - accuracy: 0.4959 - loss: -44071.5977 - val_accuracy: 0.4655 - val_loss: -59911.4727\n",
      "Epoch 6/10\n",
      "\u001b[1m15/15\u001b[0m \u001b[32m━━━━━━━━━━━━━━━━━━━━\u001b[0m\u001b[37m\u001b[0m \u001b[1m8s\u001b[0m 421ms/step - accuracy: 0.4908 - loss: -194854.2812 - val_accuracy: 0.4397 - val_loss: -186089.9688\n",
      "Epoch 7/10\n",
      "\u001b[1m15/15\u001b[0m \u001b[32m━━━━━━━━━━━━━━━━━━━━\u001b[0m\u001b[37m\u001b[0m \u001b[1m8s\u001b[0m 421ms/step - accuracy: 0.5053 - loss: -594654.7500 - val_accuracy: 0.4655 - val_loss: -593163.4375\n",
      "Epoch 8/10\n",
      "\u001b[1m15/15\u001b[0m \u001b[32m━━━━━━━━━━━━━━━━━━━━\u001b[0m\u001b[37m\u001b[0m \u001b[1m8s\u001b[0m 438ms/step - accuracy: 0.4696 - loss: -1777153.5000 - val_accuracy: 0.4224 - val_loss: -1376212.3750\n",
      "Epoch 9/10\n",
      "\u001b[1m15/15\u001b[0m \u001b[32m━━━━━━━━━━━━━━━━━━━━\u001b[0m\u001b[37m\u001b[0m \u001b[1m8s\u001b[0m 436ms/step - accuracy: 0.4388 - loss: -3453647.7500 - val_accuracy: 0.4914 - val_loss: -3023443.2500\n",
      "Epoch 10/10\n",
      "\u001b[1m15/15\u001b[0m \u001b[32m━━━━━━━━━━━━━━━━━━━━\u001b[0m\u001b[37m\u001b[0m \u001b[1m8s\u001b[0m 426ms/step - accuracy: 0.4821 - loss: -5773598.0000 - val_accuracy: 0.4914 - val_loss: -5266528.0000\n",
      "Epoch 1/10\n",
      "\u001b[1m15/15\u001b[0m \u001b[32m━━━━━━━━━━━━━━━━━━━━\u001b[0m\u001b[37m\u001b[0m \u001b[1m10s\u001b[0m 464ms/step - accuracy: 0.4290 - loss: 30.2790 - val_accuracy: 0.4655 - val_loss: -5.9051\n",
      "Epoch 2/10\n",
      "\u001b[1m15/15\u001b[0m \u001b[32m━━━━━━━━━━━━━━━━━━━━\u001b[0m\u001b[37m\u001b[0m \u001b[1m8s\u001b[0m 424ms/step - accuracy: 0.4537 - loss: -40.2455 - val_accuracy: 0.4483 - val_loss: -185.5412\n",
      "Epoch 3/10\n",
      "\u001b[1m15/15\u001b[0m \u001b[32m━━━━━━━━━━━━━━━━━━━━\u001b[0m\u001b[37m\u001b[0m \u001b[1m8s\u001b[0m 434ms/step - accuracy: 0.4894 - loss: -1038.9045 - val_accuracy: 0.4655 - val_loss: -1732.0980\n",
      "Epoch 4/10\n",
      "\u001b[1m15/15\u001b[0m \u001b[32m━━━━━━━━━━━━━━━━━━━━\u001b[0m\u001b[37m\u001b[0m \u001b[1m8s\u001b[0m 473ms/step - accuracy: 0.4325 - loss: -3699.8848 - val_accuracy: 0.4224 - val_loss: -11249.1729\n",
      "Epoch 5/10\n",
      "\u001b[1m15/15\u001b[0m \u001b[32m━━━━━━━━━━━━━━━━━━━━\u001b[0m\u001b[37m\u001b[0m \u001b[1m8s\u001b[0m 436ms/step - accuracy: 0.4242 - loss: -18783.7852 - val_accuracy: 0.3879 - val_loss: -27707.7500\n",
      "Epoch 6/10\n",
      "\u001b[1m15/15\u001b[0m \u001b[32m━━━━━━━━━━━━━━━━━━━━\u001b[0m\u001b[37m\u001b[0m \u001b[1m8s\u001b[0m 448ms/step - accuracy: 0.4518 - loss: -99284.5078 - val_accuracy: 0.4397 - val_loss: -172346.7812\n",
      "Epoch 7/10\n",
      "\u001b[1m15/15\u001b[0m \u001b[32m━━━━━━━━━━━━━━━━━━━━\u001b[0m\u001b[37m\u001b[0m \u001b[1m8s\u001b[0m 433ms/step - accuracy: 0.4519 - loss: -401954.4062 - val_accuracy: 0.3966 - val_loss: -524348.8125\n",
      "Epoch 8/10\n",
      "\u001b[1m15/15\u001b[0m \u001b[32m━━━━━━━━━━━━━━━━━━━━\u001b[0m\u001b[37m\u001b[0m \u001b[1m8s\u001b[0m 433ms/step - accuracy: 0.4030 - loss: -1250689.8750 - val_accuracy: 0.4138 - val_loss: -1225692.5000\n",
      "Epoch 9/10\n",
      "\u001b[1m15/15\u001b[0m \u001b[32m━━━━━━━━━━━━━━━━━━━━\u001b[0m\u001b[37m\u001b[0m \u001b[1m8s\u001b[0m 442ms/step - accuracy: 0.3951 - loss: -2073654.2500 - val_accuracy: 0.4138 - val_loss: -2265291.5000\n",
      "Epoch 10/10\n",
      "\u001b[1m15/15\u001b[0m \u001b[32m━━━━━━━━━━━━━━━━━━━━\u001b[0m\u001b[37m\u001b[0m \u001b[1m8s\u001b[0m 423ms/step - accuracy: 0.4323 - loss: -5102203.0000 - val_accuracy: 0.3879 - val_loss: -4594898.0000\n",
      "Epoch 1/10\n",
      "\u001b[1m15/15\u001b[0m \u001b[32m━━━━━━━━━━━━━━━━━━━━\u001b[0m\u001b[37m\u001b[0m \u001b[1m11s\u001b[0m 487ms/step - accuracy: 0.4360 - loss: 6.8340 - val_accuracy: 0.4397 - val_loss: -83.5981\n",
      "Epoch 2/10\n",
      "\u001b[1m15/15\u001b[0m \u001b[32m━━━━━━━━━━━━━━━━━━━━\u001b[0m\u001b[37m\u001b[0m \u001b[1m8s\u001b[0m 432ms/step - accuracy: 0.4911 - loss: -264.0466 - val_accuracy: 0.4828 - val_loss: -1262.6786\n",
      "Epoch 3/10\n",
      "\u001b[1m15/15\u001b[0m \u001b[32m━━━━━━━━━━━━━━━━━━━━\u001b[0m\u001b[37m\u001b[0m \u001b[1m8s\u001b[0m 437ms/step - accuracy: 0.5012 - loss: -2585.9229 - val_accuracy: 0.4138 - val_loss: -7463.6348\n",
      "Epoch 4/10\n",
      "\u001b[1m15/15\u001b[0m \u001b[32m━━━━━━━━━━━━━━━━━━━━\u001b[0m\u001b[37m\u001b[0m \u001b[1m8s\u001b[0m 422ms/step - accuracy: 0.4860 - loss: -18041.6914 - val_accuracy: 0.4569 - val_loss: -51271.1016\n",
      "Epoch 5/10\n",
      "\u001b[1m15/15\u001b[0m \u001b[32m━━━━━━━━━━━━━━━━━━━━\u001b[0m\u001b[37m\u001b[0m \u001b[1m8s\u001b[0m 442ms/step - accuracy: 0.4495 - loss: -165058.7812 - val_accuracy: 0.4483 - val_loss: -251808.8906\n",
      "Epoch 6/10\n",
      "\u001b[1m15/15\u001b[0m \u001b[32m━━━━━━━━━━━━━━━━━━━━\u001b[0m\u001b[37m\u001b[0m \u001b[1m8s\u001b[0m 427ms/step - accuracy: 0.5301 - loss: -225727.6094 - val_accuracy: 0.4138 - val_loss: -531790.3750\n",
      "Epoch 7/10\n",
      "\u001b[1m15/15\u001b[0m \u001b[32m━━━━━━━━━━━━━━━━━━━━\u001b[0m\u001b[37m\u001b[0m \u001b[1m8s\u001b[0m 433ms/step - accuracy: 0.4359 - loss: -1515185.6250 - val_accuracy: 0.4310 - val_loss: -1989041.1250\n",
      "Epoch 8/10\n",
      "\u001b[1m15/15\u001b[0m \u001b[32m━━━━━━━━━━━━━━━━━━━━\u001b[0m\u001b[37m\u001b[0m \u001b[1m8s\u001b[0m 425ms/step - accuracy: 0.4427 - loss: -2855748.5000 - val_accuracy: 0.4397 - val_loss: -3862812.5000\n",
      "Epoch 9/10\n",
      "\u001b[1m15/15\u001b[0m \u001b[32m━━━━━━━━━━━━━━━━━━━━\u001b[0m\u001b[37m\u001b[0m \u001b[1m8s\u001b[0m 430ms/step - accuracy: 0.4502 - loss: -6949265.0000 - val_accuracy: 0.4569 - val_loss: -8430714.0000\n",
      "Epoch 10/10\n",
      "\u001b[1m15/15\u001b[0m \u001b[32m━━━━━━━━━━━━━━━━━━━━\u001b[0m\u001b[37m\u001b[0m \u001b[1m8s\u001b[0m 439ms/step - accuracy: 0.3847 - loss: -13666342.0000 - val_accuracy: 0.4138 - val_loss: -14751713.0000\n",
      "Epoch 1/10\n",
      "\u001b[1m15/15\u001b[0m \u001b[32m━━━━━━━━━━━━━━━━━━━━\u001b[0m\u001b[37m\u001b[0m \u001b[1m10s\u001b[0m 463ms/step - accuracy: 0.4249 - loss: 19.3453 - val_accuracy: 0.4569 - val_loss: -14.8710\n",
      "Epoch 2/10\n",
      "\u001b[1m15/15\u001b[0m \u001b[32m━━━━━━━━━━━━━━━━━━━━\u001b[0m\u001b[37m\u001b[0m \u001b[1m8s\u001b[0m 455ms/step - accuracy: 0.4648 - loss: -38.4813 - val_accuracy: 0.4483 - val_loss: -306.4615\n",
      "Epoch 3/10\n",
      "\u001b[1m15/15\u001b[0m \u001b[32m━━━━━━━━━━━━━━━━━━━━\u001b[0m\u001b[37m\u001b[0m \u001b[1m8s\u001b[0m 427ms/step - accuracy: 0.4754 - loss: -539.3148 - val_accuracy: 0.4397 - val_loss: -2391.8640\n",
      "Epoch 4/10\n",
      "\u001b[1m15/15\u001b[0m \u001b[32m━━━━━━━━━━━━━━━━━━━━\u001b[0m\u001b[37m\u001b[0m \u001b[1m8s\u001b[0m 429ms/step - accuracy: 0.4460 - loss: -5292.2334 - val_accuracy: 0.4569 - val_loss: -13894.7988\n",
      "Epoch 5/10\n",
      "\u001b[1m15/15\u001b[0m \u001b[32m━━━━━━━━━━━━━━━━━━━━\u001b[0m\u001b[37m\u001b[0m \u001b[1m8s\u001b[0m 460ms/step - accuracy: 0.4727 - loss: -24716.3965 - val_accuracy: 0.4397 - val_loss: -58745.9258\n",
      "Epoch 6/10\n",
      "\u001b[1m15/15\u001b[0m \u001b[32m━━━━━━━━━━━━━━━━━━━━\u001b[0m\u001b[37m\u001b[0m \u001b[1m8s\u001b[0m 434ms/step - accuracy: 0.4857 - loss: -148698.9688 - val_accuracy: 0.4569 - val_loss: -302737.1875\n",
      "Epoch 7/10\n",
      "\u001b[1m15/15\u001b[0m \u001b[32m━━━━━━━━━━━━━━━━━━━━\u001b[0m\u001b[37m\u001b[0m \u001b[1m8s\u001b[0m 431ms/step - accuracy: 0.4738 - loss: -455397.5000 - val_accuracy: 0.4138 - val_loss: -864103.0625\n",
      "Epoch 8/10\n",
      "\u001b[1m15/15\u001b[0m \u001b[32m━━━━━━━━━━━━━━━━━━━━\u001b[0m\u001b[37m\u001b[0m \u001b[1m8s\u001b[0m 434ms/step - accuracy: 0.4778 - loss: -1194589.6250 - val_accuracy: 0.4569 - val_loss: -2349398.5000\n",
      "Epoch 9/10\n",
      "\u001b[1m15/15\u001b[0m \u001b[32m━━━━━━━━━━━━━━━━━━━━\u001b[0m\u001b[37m\u001b[0m \u001b[1m8s\u001b[0m 429ms/step - accuracy: 0.4865 - loss: -3242063.7500 - val_accuracy: 0.4052 - val_loss: -5056151.0000\n",
      "Epoch 10/10\n",
      "\u001b[1m15/15\u001b[0m \u001b[32m━━━━━━━━━━━━━━━━━━━━\u001b[0m\u001b[37m\u001b[0m \u001b[1m8s\u001b[0m 476ms/step - accuracy: 0.4924 - loss: -7930450.0000 - val_accuracy: 0.4310 - val_loss: -9947353.0000\n",
      "Epoch 1/10\n",
      "\u001b[1m15/15\u001b[0m \u001b[32m━━━━━━━━━━━━━━━━━━━━\u001b[0m\u001b[37m\u001b[0m \u001b[1m10s\u001b[0m 451ms/step - accuracy: 0.4198 - loss: 79.5685 - val_accuracy: 0.4224 - val_loss: -0.2142\n",
      "Epoch 2/10\n",
      "\u001b[1m15/15\u001b[0m \u001b[32m━━━━━━━━━━━━━━━━━━━━\u001b[0m\u001b[37m\u001b[0m \u001b[1m7s\u001b[0m 410ms/step - accuracy: 0.4488 - loss: -2.5446 - val_accuracy: 0.4741 - val_loss: -1.7098\n",
      "Epoch 3/10\n",
      "\u001b[1m15/15\u001b[0m \u001b[32m━━━━━━━━━━━━━━━━━━━━\u001b[0m\u001b[37m\u001b[0m \u001b[1m7s\u001b[0m 401ms/step - accuracy: 0.5115 - loss: -30.3255 - val_accuracy: 0.4655 - val_loss: -3.5140\n",
      "Epoch 4/10\n",
      "\u001b[1m15/15\u001b[0m \u001b[32m━━━━━━━━━━━━━━━━━━━━\u001b[0m\u001b[37m\u001b[0m \u001b[1m8s\u001b[0m 444ms/step - accuracy: 0.4528 - loss: -378.2520 - val_accuracy: 0.4483 - val_loss: 232.8048\n",
      "Epoch 5/10\n",
      "\u001b[1m15/15\u001b[0m \u001b[32m━━━━━━━━━━━━━━━━━━━━\u001b[0m\u001b[37m\u001b[0m \u001b[1m8s\u001b[0m 432ms/step - accuracy: 0.5144 - loss: -3160.3318 - val_accuracy: 0.4138 - val_loss: -1556.6898\n",
      "Epoch 6/10\n",
      "\u001b[1m15/15\u001b[0m \u001b[32m━━━━━━━━━━━━━━━━━━━━\u001b[0m\u001b[37m\u001b[0m \u001b[1m7s\u001b[0m 397ms/step - accuracy: 0.4804 - loss: -12729.2939 - val_accuracy: 0.4310 - val_loss: -7680.5850\n",
      "Epoch 7/10\n",
      "\u001b[1m15/15\u001b[0m \u001b[32m━━━━━━━━━━━━━━━━━━━━\u001b[0m\u001b[37m\u001b[0m \u001b[1m7s\u001b[0m 401ms/step - accuracy: 0.5007 - loss: -29254.7305 - val_accuracy: 0.4397 - val_loss: -22916.5859\n",
      "Epoch 8/10\n",
      "\u001b[1m15/15\u001b[0m \u001b[32m━━━━━━━━━━━━━━━━━━━━\u001b[0m\u001b[37m\u001b[0m \u001b[1m8s\u001b[0m 420ms/step - accuracy: 0.5271 - loss: -132079.8438 - val_accuracy: 0.4224 - val_loss: -47138.8516\n",
      "Epoch 9/10\n",
      "\u001b[1m15/15\u001b[0m \u001b[32m━━━━━━━━━━━━━━━━━━━━\u001b[0m\u001b[37m\u001b[0m \u001b[1m8s\u001b[0m 443ms/step - accuracy: 0.4657 - loss: -321261.7812 - val_accuracy: 0.4828 - val_loss: -132413.8906\n",
      "Epoch 10/10\n",
      "\u001b[1m15/15\u001b[0m \u001b[32m━━━━━━━━━━━━━━━━━━━━\u001b[0m\u001b[37m\u001b[0m \u001b[1m8s\u001b[0m 432ms/step - accuracy: 0.4733 - loss: -763880.5625 - val_accuracy: 0.4052 - val_loss: -361159.5312\n",
      "Epoch 1/10\n",
      "\u001b[1m15/15\u001b[0m \u001b[32m━━━━━━━━━━━━━━━━━━━━\u001b[0m\u001b[37m\u001b[0m \u001b[1m10s\u001b[0m 464ms/step - accuracy: 0.4375 - loss: 72.3783 - val_accuracy: 0.3879 - val_loss: -2.0471\n",
      "Epoch 2/10\n",
      "\u001b[1m15/15\u001b[0m \u001b[32m━━━━━━━━━━━━━━━━━━━━\u001b[0m\u001b[37m\u001b[0m \u001b[1m8s\u001b[0m 419ms/step - accuracy: 0.4345 - loss: -14.1337 - val_accuracy: 0.4138 - val_loss: -44.9177\n",
      "Epoch 3/10\n",
      "\u001b[1m15/15\u001b[0m \u001b[32m━━━━━━━━━━━━━━━━━━━━\u001b[0m\u001b[37m\u001b[0m \u001b[1m8s\u001b[0m 421ms/step - accuracy: 0.4728 - loss: -239.3898 - val_accuracy: 0.4397 - val_loss: -471.9066\n",
      "Epoch 4/10\n",
      "\u001b[1m15/15\u001b[0m \u001b[32m━━━━━━━━━━━━━━━━━━━━\u001b[0m\u001b[37m\u001b[0m \u001b[1m8s\u001b[0m 474ms/step - accuracy: 0.4450 - loss: -1803.2828 - val_accuracy: 0.4224 - val_loss: -2393.1428\n",
      "Epoch 5/10\n",
      "\u001b[1m15/15\u001b[0m \u001b[32m━━━━━━━━━━━━━━━━━━━━\u001b[0m\u001b[37m\u001b[0m \u001b[1m8s\u001b[0m 458ms/step - accuracy: 0.4569 - loss: -9831.9053 - val_accuracy: 0.4224 - val_loss: -10850.4688\n",
      "Epoch 6/10\n",
      "\u001b[1m15/15\u001b[0m \u001b[32m━━━━━━━━━━━━━━━━━━━━\u001b[0m\u001b[37m\u001b[0m \u001b[1m8s\u001b[0m 423ms/step - accuracy: 0.4822 - loss: -34116.0859 - val_accuracy: 0.4483 - val_loss: -31573.2285\n",
      "Epoch 7/10\n",
      "\u001b[1m15/15\u001b[0m \u001b[32m━━━━━━━━━━━━━━━━━━━━\u001b[0m\u001b[37m\u001b[0m \u001b[1m8s\u001b[0m 442ms/step - accuracy: 0.4623 - loss: -83072.7578 - val_accuracy: 0.4569 - val_loss: -74454.5000\n",
      "Epoch 8/10\n",
      "\u001b[1m15/15\u001b[0m \u001b[32m━━━━━━━━━━━━━━━━━━━━\u001b[0m\u001b[37m\u001b[0m \u001b[1m8s\u001b[0m 420ms/step - accuracy: 0.4623 - loss: -218126.8594 - val_accuracy: 0.4483 - val_loss: -176104.0938\n",
      "Epoch 9/10\n",
      "\u001b[1m15/15\u001b[0m \u001b[32m━━━━━━━━━━━━━━━━━━━━\u001b[0m\u001b[37m\u001b[0m \u001b[1m8s\u001b[0m 425ms/step - accuracy: 0.4748 - loss: -497765.3750 - val_accuracy: 0.4655 - val_loss: -350786.7500\n",
      "Epoch 10/10\n",
      "\u001b[1m15/15\u001b[0m \u001b[32m━━━━━━━━━━━━━━━━━━━━\u001b[0m\u001b[37m\u001b[0m \u001b[1m8s\u001b[0m 431ms/step - accuracy: 0.4425 - loss: -1493880.1250 - val_accuracy: 0.4655 - val_loss: -881136.0625\n",
      "Epoch 1/10\n",
      "\u001b[1m15/15\u001b[0m \u001b[32m━━━━━━━━━━━━━━━━━━━━\u001b[0m\u001b[37m\u001b[0m \u001b[1m10s\u001b[0m 468ms/step - accuracy: 0.4170 - loss: 33.6821 - val_accuracy: 0.4138 - val_loss: -34.5539\n",
      "Epoch 2/10\n",
      "\u001b[1m15/15\u001b[0m \u001b[32m━━━━━━━━━━━━━━━━━━━━\u001b[0m\u001b[37m\u001b[0m \u001b[1m8s\u001b[0m 457ms/step - accuracy: 0.4795 - loss: -169.9102 - val_accuracy: 0.4655 - val_loss: -694.0749\n",
      "Epoch 3/10\n",
      "\u001b[1m15/15\u001b[0m \u001b[32m━━━━━━━━━━━━━━━━━━━━\u001b[0m\u001b[37m\u001b[0m \u001b[1m8s\u001b[0m 449ms/step - accuracy: 0.4735 - loss: -1144.2980 - val_accuracy: 0.4397 - val_loss: -3867.5344\n",
      "Epoch 4/10\n",
      "\u001b[1m15/15\u001b[0m \u001b[32m━━━━━━━━━━━━━━━━━━━━\u001b[0m\u001b[37m\u001b[0m \u001b[1m8s\u001b[0m 446ms/step - accuracy: 0.4828 - loss: -10614.1172 - val_accuracy: 0.4397 - val_loss: -22696.6934\n",
      "Epoch 5/10\n",
      "\u001b[1m15/15\u001b[0m \u001b[32m━━━━━━━━━━━━━━━━━━━━\u001b[0m\u001b[37m\u001b[0m \u001b[1m8s\u001b[0m 438ms/step - accuracy: 0.4665 - loss: -51624.5352 - val_accuracy: 0.4397 - val_loss: -101838.6484\n",
      "Epoch 6/10\n",
      "\u001b[1m15/15\u001b[0m \u001b[32m━━━━━━━━━━━━━━━━━━━━\u001b[0m\u001b[37m\u001b[0m \u001b[1m8s\u001b[0m 449ms/step - accuracy: 0.5088 - loss: -157251.3594 - val_accuracy: 0.4655 - val_loss: -354403.0312\n",
      "Epoch 7/10\n",
      "\u001b[1m15/15\u001b[0m \u001b[32m━━━━━━━━━━━━━━━━━━━━\u001b[0m\u001b[37m\u001b[0m \u001b[1m8s\u001b[0m 466ms/step - accuracy: 0.4825 - loss: -545479.7500 - val_accuracy: 0.4569 - val_loss: -838381.5000\n",
      "Epoch 8/10\n",
      "\u001b[1m15/15\u001b[0m \u001b[32m━━━━━━━━━━━━━━━━━━━━\u001b[0m\u001b[37m\u001b[0m \u001b[1m8s\u001b[0m 443ms/step - accuracy: 0.4684 - loss: -1245195.1250 - val_accuracy: 0.4397 - val_loss: -1985774.8750\n",
      "Epoch 9/10\n",
      "\u001b[1m15/15\u001b[0m \u001b[32m━━━━━━━━━━━━━━━━━━━━\u001b[0m\u001b[37m\u001b[0m \u001b[1m8s\u001b[0m 438ms/step - accuracy: 0.4843 - loss: -3857682.7500 - val_accuracy: 0.4397 - val_loss: -4526505.0000\n",
      "Epoch 10/10\n",
      "\u001b[1m15/15\u001b[0m \u001b[32m━━━━━━━━━━━━━━━━━━━━\u001b[0m\u001b[37m\u001b[0m \u001b[1m8s\u001b[0m 435ms/step - accuracy: 0.4880 - loss: -7210806.0000 - val_accuracy: 0.4310 - val_loss: -8477828.0000\n"
     ]
    }
   ],
   "source": [
    "def create_cnn_model(input_shape):\n",
    "    model = Sequential([\n",
    "        Conv2D(32, (3, 3), activation='relu', input_shape=input_shape),\n",
    "        MaxPooling2D((2, 2)),\n",
    "        Conv2D(64, (3, 3), activation='relu'),\n",
    "        MaxPooling2D((2, 2)),\n",
    "        Conv2D(128, (3, 3), activation='relu'),\n",
    "        MaxPooling2D((2, 2)),\n",
    "        Flatten(),\n",
    "        Dense(128, activation='relu'),\n",
    "        Dropout(0.5),\n",
    "        Dense(1, activation='sigmoid')\n",
    "    ])\n",
    "    model.compile(optimizer='adam', loss='binary_crossentropy', metrics=['accuracy'])\n",
    "    return model\n",
    "\n",
    "def train_feature_extraction_model(model, train_gen, val_gen, epochs=10):\n",
    "    model.fit(train_gen, validation_data=val_gen, epochs=epochs)\n",
    "    return model\n",
    "\n",
    "input_shape = (128, 128, 3)\n",
    "\n",
    "# Train models with different features\n",
    "person_model = create_cnn_model(input_shape)\n",
    "person_model = train_feature_extraction_model(person_model, train_generator, val_generator)\n",
    "\n",
    "castle_model = create_cnn_model(input_shape)\n",
    "castle_model = train_feature_extraction_model(castle_model, train_generator, val_generator)\n",
    "\n",
    "indoor_outdoor_model = create_cnn_model(input_shape)\n",
    "indoor_outdoor_model = train_feature_extraction_model(indoor_outdoor_model, train_generator, val_generator)\n",
    "\n",
    "scenery_model = create_cnn_model(input_shape)\n",
    "scenery_model = train_feature_extraction_model(scenery_model, train_generator, val_generator)\n",
    "\n",
    "# Train models with more features\n",
    "day_night_model = create_cnn_model(input_shape)\n",
    "day_night_model = train_feature_extraction_model(day_night_model, train_generator, val_generator)\n",
    "\n",
    "flower_model = create_cnn_model(input_shape)\n",
    "flower_model = train_feature_extraction_model(flower_model, train_generator, val_generator)\n",
    "\n",
    "animal_model = create_cnn_model(input_shape)\n",
    "animal_model = train_feature_extraction_model(animal_model, train_generator, val_generator)\n",
    "\n",
    "tree_model = create_cnn_model(input_shape)\n",
    "tree_model = train_feature_extraction_model(tree_model, train_generator, val_generator)\n",
    "\n",
    "car_model = create_cnn_model(input_shape)\n",
    "car_model = train_feature_extraction_model(car_model, train_generator, val_generator)\n",
    "\n",
    "sky_model = create_cnn_model(input_shape)\n",
    "sky_model = train_feature_extraction_model(sky_model, train_generator, val_generator)"
   ]
  },
  {
   "cell_type": "code",
   "execution_count": 22,
   "id": "8db724d9",
   "metadata": {},
   "outputs": [
    {
     "name": "stdout",
     "output_type": "stream",
     "text": [
      "\u001b[1m4/4\u001b[0m \u001b[32m━━━━━━━━━━━━━━━━━━━━\u001b[0m\u001b[37m\u001b[0m \u001b[1m1s\u001b[0m 236ms/step\n",
      "\u001b[1m4/4\u001b[0m \u001b[32m━━━━━━━━━━━━━━━━━━━━\u001b[0m\u001b[37m\u001b[0m \u001b[1m1s\u001b[0m 216ms/step\n",
      "\u001b[1m4/4\u001b[0m \u001b[32m━━━━━━━━━━━━━━━━━━━━\u001b[0m\u001b[37m\u001b[0m \u001b[1m1s\u001b[0m 204ms/step\n",
      "\u001b[1m4/4\u001b[0m \u001b[32m━━━━━━━━━━━━━━━━━━━━\u001b[0m\u001b[37m\u001b[0m \u001b[1m1s\u001b[0m 194ms/step\n",
      "\u001b[1m4/4\u001b[0m \u001b[32m━━━━━━━━━━━━━━━━━━━━\u001b[0m\u001b[37m\u001b[0m \u001b[1m1s\u001b[0m 194ms/step\n",
      "\u001b[1m4/4\u001b[0m \u001b[32m━━━━━━━━━━━━━━━━━━━━\u001b[0m\u001b[37m\u001b[0m \u001b[1m1s\u001b[0m 194ms/step\n",
      "\u001b[1m4/4\u001b[0m \u001b[32m━━━━━━━━━━━━━━━━━━━━\u001b[0m\u001b[37m\u001b[0m \u001b[1m1s\u001b[0m 192ms/step\n",
      "\u001b[1m4/4\u001b[0m \u001b[32m━━━━━━━━━━━━━━━━━━━━\u001b[0m\u001b[37m\u001b[0m \u001b[1m1s\u001b[0m 208ms/step\n",
      "\u001b[1m4/4\u001b[0m \u001b[32m━━━━━━━━━━━━━━━━━━━━\u001b[0m\u001b[37m\u001b[0m \u001b[1m1s\u001b[0m 201ms/step\n",
      "\u001b[1m4/4\u001b[0m \u001b[32m━━━━━━━━━━━━━━━━━━━━\u001b[0m\u001b[37m\u001b[0m \u001b[1m1s\u001b[0m 205ms/step\n"
     ]
    }
   ],
   "source": [
    "def extract_features(model, data_generator):\n",
    "    data_generator.reset()\n",
    "    features = model.predict(data_generator)\n",
    "    return features\n",
    "\n",
    "# Extract various features\n",
    "person_features = extract_features(person_model, val_generator)\n",
    "castle_features = extract_features(castle_model, val_generator)\n",
    "indoor_outdoor_features = extract_features(indoor_outdoor_model, val_generator)\n",
    "scenery_features = extract_features(scenery_model, val_generator)\n",
    "day_night_features = extract_features(day_night_model, val_generator)\n",
    "flower_features = extract_features(flower_model, val_generator)\n",
    "animal_features = extract_features(animal_model, val_generator)\n",
    "tree_features = extract_features(tree_model, val_generator)\n",
    "car_features = extract_features(car_model, val_generator)\n",
    "sky_features = extract_features(sky_model, val_generator)"
   ]
  },
  {
   "cell_type": "code",
   "execution_count": 24,
   "id": "4f6b59ee",
   "metadata": {},
   "outputs": [
    {
     "name": "stdout",
     "output_type": "stream",
     "text": [
      "              precision    recall  f1-score   support\n",
      "\n",
      "           0       0.54      0.58      0.56        12\n",
      "           1       0.50      0.56      0.53         9\n",
      "           2       0.00      0.00      0.00         3\n",
      "\n",
      "    accuracy                           0.50        24\n",
      "   macro avg       0.35      0.38      0.36        24\n",
      "weighted avg       0.46      0.50      0.48        24\n",
      "\n",
      "Accuracy: 0.5\n"
     ]
    }
   ],
   "source": [
    "# Splicing all features together\n",
    "X = np.column_stack([person_features, castle_features, indoor_outdoor_features, scenery_features,\n",
    "                     day_night_features, flower_features, animal_features, tree_features,\n",
    "                     car_features, sky_features])\n",
    "y = val_generator.classes\n",
    "\n",
    "# Divide training and testing sets\n",
    "X_train, X_test, y_train, y_test = train_test_split(X, y, test_size=0.2, random_state=42)\n",
    "\n",
    "# Train classification models (such as random forests)\n",
    "classifier = RandomForestClassifier(n_estimators=100)\n",
    "classifier.fit(X_train, y_train)\n",
    "\n",
    "# Evaluation model\n",
    "y_pred = classifier.predict(X_test)\n",
    "print(classification_report(y_test, y_pred))\n",
    "print(f'Accuracy: {accuracy_score(y_test, y_pred)}')"
   ]
  },
  {
   "cell_type": "markdown",
   "id": "e86d58c8",
   "metadata": {},
   "source": [
    "The model performs moderately well on classes 0 and 1 but fails completely on class 2.\n",
    "Overall accuracy is 50%.\n",
    "The macro average shows lower precision and recall, indicating poor performance on class 2 affects the overall metric.\n",
    "The weighted average gives a more balanced view considering the number of instances per class."
   ]
  },
  {
   "cell_type": "code",
   "execution_count": 26,
   "id": "9f1a3ee9",
   "metadata": {},
   "outputs": [
    {
     "name": "stdout",
     "output_type": "stream",
     "text": [
      "Found 16 images belonging to 1 classes.\n",
      "\u001b[1m16/16\u001b[0m \u001b[32m━━━━━━━━━━━━━━━━━━━━\u001b[0m\u001b[37m\u001b[0m \u001b[1m0s\u001b[0m 10ms/step\n"
     ]
    },
    {
     "name": "stderr",
     "output_type": "stream",
     "text": [
      "/Users/ruojiakuang/anaconda3/lib/python3.11/site-packages/keras/src/trainers/data_adapters/py_dataset_adapter.py:121: UserWarning: Your `PyDataset` class should call `super().__init__(**kwargs)` in its constructor. `**kwargs` can include `workers`, `use_multiprocessing`, `max_queue_size`. Do not pass these arguments to `fit()`, as they will be ignored.\n",
      "  self._warn_if_super_not_called()\n"
     ]
    },
    {
     "name": "stdout",
     "output_type": "stream",
     "text": [
      "\u001b[1m16/16\u001b[0m \u001b[32m━━━━━━━━━━━━━━━━━━━━\u001b[0m\u001b[37m\u001b[0m \u001b[1m0s\u001b[0m 8ms/step\n",
      "\u001b[1m16/16\u001b[0m \u001b[32m━━━━━━━━━━━━━━━━━━━━\u001b[0m\u001b[37m\u001b[0m \u001b[1m0s\u001b[0m 9ms/step\n",
      "\u001b[1m16/16\u001b[0m \u001b[32m━━━━━━━━━━━━━━━━━━━━\u001b[0m\u001b[37m\u001b[0m \u001b[1m0s\u001b[0m 8ms/step\n",
      "\u001b[1m16/16\u001b[0m \u001b[32m━━━━━━━━━━━━━━━━━━━━\u001b[0m\u001b[37m\u001b[0m \u001b[1m0s\u001b[0m 10ms/step\n",
      "\u001b[1m16/16\u001b[0m \u001b[32m━━━━━━━━━━━━━━━━━━━━\u001b[0m\u001b[37m\u001b[0m \u001b[1m0s\u001b[0m 11ms/step\n",
      "\u001b[1m16/16\u001b[0m \u001b[32m━━━━━━━━━━━━━━━━━━━━\u001b[0m\u001b[37m\u001b[0m \u001b[1m0s\u001b[0m 15ms/step\n",
      "\u001b[1m16/16\u001b[0m \u001b[32m━━━━━━━━━━━━━━━━━━━━\u001b[0m\u001b[37m\u001b[0m \u001b[1m0s\u001b[0m 14ms/step\n",
      "\u001b[1m16/16\u001b[0m \u001b[32m━━━━━━━━━━━━━━━━━━━━\u001b[0m\u001b[37m\u001b[0m \u001b[1m0s\u001b[0m 11ms/step\n",
      "\u001b[1m16/16\u001b[0m \u001b[32m━━━━━━━━━━━━━━━━━━━━\u001b[0m\u001b[37m\u001b[0m \u001b[1m0s\u001b[0m 9ms/step\n"
     ]
    },
    {
     "data": {
      "text/plain": [
       "array([1, 0, 0, 1, 0, 0, 0, 2, 0, 1, 2, 0, 2, 2, 2, 0], dtype=int32)"
      ]
     },
     "execution_count": 26,
     "metadata": {},
     "output_type": "execute_result"
    }
   ],
   "source": [
    "# Load and preprocess test images\n",
    "# test_dir = os.path.join(data_dir, 'test')\n",
    "test_dir = '/Users/ruojiakuang/Desktop/GSB 545 Advanced ML/Lab 6 Data/Test'\n",
    "test_generator = load_and_preprocess_images(test_dir, batch_size=1)\n",
    "\n",
    "# Extracting features from test images\n",
    "test_person_features = extract_features(person_model, test_generator)\n",
    "test_castle_features = extract_features(castle_model, test_generator)\n",
    "test_indoor_outdoor_features = extract_features(indoor_outdoor_model, test_generator)\n",
    "test_scenery_features = extract_features(scenery_model, test_generator)\n",
    "test_day_night_features = extract_features(day_night_model, test_generator)\n",
    "test_flower_features = extract_features(flower_model, test_generator)\n",
    "test_animal_features = extract_features(animal_model, test_generator)\n",
    "test_tree_features = extract_features(tree_model, test_generator)\n",
    "test_car_features = extract_features(car_model, test_generator)\n",
    "test_sky_features = extract_features(sky_model, test_generator)\n",
    "\n",
    "# All features of splicing test images\n",
    "X_test_final = np.column_stack([test_person_features, test_castle_features, test_indoor_outdoor_features,\n",
    "                                test_scenery_features, test_day_night_features, test_flower_features,\n",
    "                                test_animal_features, test_tree_features, test_car_features, test_sky_features])\n",
    "\n",
    "# Photographer for predicting test images\n",
    "y_test_final_pred = classifier.predict(X_test_final)\n",
    "y_test_final_pred"
   ]
  },
  {
   "cell_type": "markdown",
   "id": "d7e209ed",
   "metadata": {},
   "source": [
    "### Prediction on Test Data"
   ]
  },
  {
   "cell_type": "code",
   "execution_count": 27,
   "id": "f23a9f9b",
   "metadata": {},
   "outputs": [
    {
     "name": "stdout",
     "output_type": "stream",
     "text": [
      "Photo 1 is predicted to be taken by: Kelly\n",
      "Photo 2 is predicted to be taken by: Alex\n",
      "Photo 3 is predicted to be taken by: Alex\n",
      "Photo 4 is predicted to be taken by: Kelly\n",
      "Photo 5 is predicted to be taken by: Alex\n",
      "Photo 6 is predicted to be taken by: Alex\n",
      "Photo 7 is predicted to be taken by: Alex\n",
      "Photo 8 is predicted to be taken by: Neither\n",
      "Photo 9 is predicted to be taken by: Alex\n",
      "Photo 10 is predicted to be taken by: Kelly\n",
      "Photo 11 is predicted to be taken by: Neither\n",
      "Photo 12 is predicted to be taken by: Alex\n",
      "Photo 13 is predicted to be taken by: Neither\n",
      "Photo 14 is predicted to be taken by: Neither\n",
      "Photo 15 is predicted to be taken by: Neither\n",
      "Photo 16 is predicted to be taken by: Alex\n"
     ]
    }
   ],
   "source": [
    "photographers = ['Alex', 'Kelly', 'Neither']\n",
    "\n",
    "# Convert the predicted category index to the photographer's name\n",
    "predicted_photographers = [photographers[class_index] for class_index in y_test_final_pred]\n",
    "\n",
    "# Print prediction results\n",
    "for i, photographer in enumerate(predicted_photographers):\n",
    "    print(f\"Photo {i+1} is predicted to be taken by: {photographer}\")"
   ]
  },
  {
   "cell_type": "markdown",
   "id": "98a624a1",
   "metadata": {},
   "source": [
    "### Approach 2: \n",
    "\n",
    "Train a convolutional neural network directly to the images, with the output being the known photographer of the image."
   ]
  },
  {
   "cell_type": "code",
   "execution_count": 30,
   "id": "fa59f9d0",
   "metadata": {},
   "outputs": [
    {
     "name": "stdout",
     "output_type": "stream",
     "text": [
      "Found 469 images belonging to 3 classes.\n",
      "Found 116 images belonging to 3 classes.\n"
     ]
    }
   ],
   "source": [
    "from tensorflow import keras\n",
    "from tensorflow.keras.preprocessing.image import ImageDataGenerator\n",
    "from keras.models import Sequential\n",
    "from keras.layers import Conv2D, MaxPooling2D, Flatten, Dense\n",
    "from keras.callbacks import ModelCheckpoint\n",
    "import matplotlib.pyplot as plt\n",
    "import os\n",
    "\n",
    "# Dataset path(Change to your path)\n",
    "base_dir = '/Users/ruojiakuang/Desktop/GSB 545 Advanced ML/Lab 6 Data/Alex_Kelly_Pics'\n",
    "\n",
    "# Using data augmentation\n",
    "train_datagen = ImageDataGenerator(\n",
    "    rescale=1./255,\n",
    "    validation_split=0.2,\n",
    "    rotation_range=40.,\n",
    "    width_shift_range=0.2,\n",
    "    height_shift_range=0.2,\n",
    "    shear_range=0.2,\n",
    "    zoom_range=0.2,\n",
    "    horizontal_flip=True,\n",
    "    fill_mode='nearest'\n",
    ")\n",
    "\n",
    "\n",
    "# Calculate the number of samples in the training and validation sets\n",
    "train_gen = train_datagen.flow_from_directory(\n",
    "    base_dir,\n",
    "    target_size=(224, 224),\n",
    "    batch_size=20,\n",
    "    class_mode='categorical',\n",
    "    subset='training'  # Designated as training set\n",
    ")\n",
    "\n",
    "val_gen = train_datagen.flow_from_directory(\n",
    "    base_dir,\n",
    "    target_size=(224, 224),\n",
    "    batch_size=20,\n",
    "    class_mode='categorical',\n",
    "    subset='validation'  # Specify as validation set\n",
    ")"
   ]
  },
  {
   "cell_type": "markdown",
   "id": "b9981196",
   "metadata": {},
   "source": [
    "### Building the CNN Model\n",
    "\n",
    "* Conv2D: Applies convolutional filters to the input image, capturing local patterns.\n",
    "* MaxPooling2D: Reduces the spatial dimensions of the feature maps, retaining the most important information.\n",
    "* Flatten: Flattens the 2D arrays into a 1D vector, preparing it for the fully connected layers.\n",
    "* Dense: Fully connected layers that perform classification. The last layer uses a softmax activation function to output probabilities for each class."
   ]
  },
  {
   "cell_type": "code",
   "execution_count": 32,
   "id": "464d713c",
   "metadata": {},
   "outputs": [
    {
     "data": {
      "text/html": [
       "<pre style=\"white-space:pre;overflow-x:auto;line-height:normal;font-family:Menlo,'DejaVu Sans Mono',consolas,'Courier New',monospace\"><span style=\"font-weight: bold\">Model: \"sequential_27\"</span>\n",
       "</pre>\n"
      ],
      "text/plain": [
       "\u001b[1mModel: \"sequential_27\"\u001b[0m\n"
      ]
     },
     "metadata": {},
     "output_type": "display_data"
    },
    {
     "data": {
      "text/html": [
       "<pre style=\"white-space:pre;overflow-x:auto;line-height:normal;font-family:Menlo,'DejaVu Sans Mono',consolas,'Courier New',monospace\">┏━━━━━━━━━━━━━━━━━━━━━━━━━━━━━━━━━┳━━━━━━━━━━━━━━━━━━━━━━━━┳━━━━━━━━━━━━━━━┓\n",
       "┃<span style=\"font-weight: bold\"> Layer (type)                    </span>┃<span style=\"font-weight: bold\"> Output Shape           </span>┃<span style=\"font-weight: bold\">       Param # </span>┃\n",
       "┡━━━━━━━━━━━━━━━━━━━━━━━━━━━━━━━━━╇━━━━━━━━━━━━━━━━━━━━━━━━╇━━━━━━━━━━━━━━━┩\n",
       "│ conv2d_83 (<span style=\"color: #0087ff; text-decoration-color: #0087ff\">Conv2D</span>)              │ (<span style=\"color: #00d7ff; text-decoration-color: #00d7ff\">None</span>, <span style=\"color: #00af00; text-decoration-color: #00af00\">222</span>, <span style=\"color: #00af00; text-decoration-color: #00af00\">222</span>, <span style=\"color: #00af00; text-decoration-color: #00af00\">32</span>)   │           <span style=\"color: #00af00; text-decoration-color: #00af00\">896</span> │\n",
       "├─────────────────────────────────┼────────────────────────┼───────────────┤\n",
       "│ max_pooling2d_83 (<span style=\"color: #0087ff; text-decoration-color: #0087ff\">MaxPooling2D</span>) │ (<span style=\"color: #00d7ff; text-decoration-color: #00d7ff\">None</span>, <span style=\"color: #00af00; text-decoration-color: #00af00\">111</span>, <span style=\"color: #00af00; text-decoration-color: #00af00\">111</span>, <span style=\"color: #00af00; text-decoration-color: #00af00\">32</span>)   │             <span style=\"color: #00af00; text-decoration-color: #00af00\">0</span> │\n",
       "├─────────────────────────────────┼────────────────────────┼───────────────┤\n",
       "│ conv2d_84 (<span style=\"color: #0087ff; text-decoration-color: #0087ff\">Conv2D</span>)              │ (<span style=\"color: #00d7ff; text-decoration-color: #00d7ff\">None</span>, <span style=\"color: #00af00; text-decoration-color: #00af00\">109</span>, <span style=\"color: #00af00; text-decoration-color: #00af00\">109</span>, <span style=\"color: #00af00; text-decoration-color: #00af00\">64</span>)   │        <span style=\"color: #00af00; text-decoration-color: #00af00\">18,496</span> │\n",
       "├─────────────────────────────────┼────────────────────────┼───────────────┤\n",
       "│ max_pooling2d_84 (<span style=\"color: #0087ff; text-decoration-color: #0087ff\">MaxPooling2D</span>) │ (<span style=\"color: #00d7ff; text-decoration-color: #00d7ff\">None</span>, <span style=\"color: #00af00; text-decoration-color: #00af00\">54</span>, <span style=\"color: #00af00; text-decoration-color: #00af00\">54</span>, <span style=\"color: #00af00; text-decoration-color: #00af00\">64</span>)     │             <span style=\"color: #00af00; text-decoration-color: #00af00\">0</span> │\n",
       "├─────────────────────────────────┼────────────────────────┼───────────────┤\n",
       "│ conv2d_85 (<span style=\"color: #0087ff; text-decoration-color: #0087ff\">Conv2D</span>)              │ (<span style=\"color: #00d7ff; text-decoration-color: #00d7ff\">None</span>, <span style=\"color: #00af00; text-decoration-color: #00af00\">52</span>, <span style=\"color: #00af00; text-decoration-color: #00af00\">52</span>, <span style=\"color: #00af00; text-decoration-color: #00af00\">128</span>)    │        <span style=\"color: #00af00; text-decoration-color: #00af00\">73,856</span> │\n",
       "├─────────────────────────────────┼────────────────────────┼───────────────┤\n",
       "│ max_pooling2d_85 (<span style=\"color: #0087ff; text-decoration-color: #0087ff\">MaxPooling2D</span>) │ (<span style=\"color: #00d7ff; text-decoration-color: #00d7ff\">None</span>, <span style=\"color: #00af00; text-decoration-color: #00af00\">26</span>, <span style=\"color: #00af00; text-decoration-color: #00af00\">26</span>, <span style=\"color: #00af00; text-decoration-color: #00af00\">128</span>)    │             <span style=\"color: #00af00; text-decoration-color: #00af00\">0</span> │\n",
       "├─────────────────────────────────┼────────────────────────┼───────────────┤\n",
       "│ conv2d_86 (<span style=\"color: #0087ff; text-decoration-color: #0087ff\">Conv2D</span>)              │ (<span style=\"color: #00d7ff; text-decoration-color: #00d7ff\">None</span>, <span style=\"color: #00af00; text-decoration-color: #00af00\">24</span>, <span style=\"color: #00af00; text-decoration-color: #00af00\">24</span>, <span style=\"color: #00af00; text-decoration-color: #00af00\">128</span>)    │       <span style=\"color: #00af00; text-decoration-color: #00af00\">147,584</span> │\n",
       "├─────────────────────────────────┼────────────────────────┼───────────────┤\n",
       "│ max_pooling2d_86 (<span style=\"color: #0087ff; text-decoration-color: #0087ff\">MaxPooling2D</span>) │ (<span style=\"color: #00d7ff; text-decoration-color: #00d7ff\">None</span>, <span style=\"color: #00af00; text-decoration-color: #00af00\">12</span>, <span style=\"color: #00af00; text-decoration-color: #00af00\">12</span>, <span style=\"color: #00af00; text-decoration-color: #00af00\">128</span>)    │             <span style=\"color: #00af00; text-decoration-color: #00af00\">0</span> │\n",
       "├─────────────────────────────────┼────────────────────────┼───────────────┤\n",
       "│ flatten_27 (<span style=\"color: #0087ff; text-decoration-color: #0087ff\">Flatten</span>)            │ (<span style=\"color: #00d7ff; text-decoration-color: #00d7ff\">None</span>, <span style=\"color: #00af00; text-decoration-color: #00af00\">18432</span>)          │             <span style=\"color: #00af00; text-decoration-color: #00af00\">0</span> │\n",
       "├─────────────────────────────────┼────────────────────────┼───────────────┤\n",
       "│ dense_54 (<span style=\"color: #0087ff; text-decoration-color: #0087ff\">Dense</span>)                │ (<span style=\"color: #00d7ff; text-decoration-color: #00d7ff\">None</span>, <span style=\"color: #00af00; text-decoration-color: #00af00\">512</span>)            │     <span style=\"color: #00af00; text-decoration-color: #00af00\">9,437,696</span> │\n",
       "├─────────────────────────────────┼────────────────────────┼───────────────┤\n",
       "│ dense_55 (<span style=\"color: #0087ff; text-decoration-color: #0087ff\">Dense</span>)                │ (<span style=\"color: #00d7ff; text-decoration-color: #00d7ff\">None</span>, <span style=\"color: #00af00; text-decoration-color: #00af00\">3</span>)              │         <span style=\"color: #00af00; text-decoration-color: #00af00\">1,539</span> │\n",
       "└─────────────────────────────────┴────────────────────────┴───────────────┘\n",
       "</pre>\n"
      ],
      "text/plain": [
       "┏━━━━━━━━━━━━━━━━━━━━━━━━━━━━━━━━━┳━━━━━━━━━━━━━━━━━━━━━━━━┳━━━━━━━━━━━━━━━┓\n",
       "┃\u001b[1m \u001b[0m\u001b[1mLayer (type)                   \u001b[0m\u001b[1m \u001b[0m┃\u001b[1m \u001b[0m\u001b[1mOutput Shape          \u001b[0m\u001b[1m \u001b[0m┃\u001b[1m \u001b[0m\u001b[1m      Param #\u001b[0m\u001b[1m \u001b[0m┃\n",
       "┡━━━━━━━━━━━━━━━━━━━━━━━━━━━━━━━━━╇━━━━━━━━━━━━━━━━━━━━━━━━╇━━━━━━━━━━━━━━━┩\n",
       "│ conv2d_83 (\u001b[38;5;33mConv2D\u001b[0m)              │ (\u001b[38;5;45mNone\u001b[0m, \u001b[38;5;34m222\u001b[0m, \u001b[38;5;34m222\u001b[0m, \u001b[38;5;34m32\u001b[0m)   │           \u001b[38;5;34m896\u001b[0m │\n",
       "├─────────────────────────────────┼────────────────────────┼───────────────┤\n",
       "│ max_pooling2d_83 (\u001b[38;5;33mMaxPooling2D\u001b[0m) │ (\u001b[38;5;45mNone\u001b[0m, \u001b[38;5;34m111\u001b[0m, \u001b[38;5;34m111\u001b[0m, \u001b[38;5;34m32\u001b[0m)   │             \u001b[38;5;34m0\u001b[0m │\n",
       "├─────────────────────────────────┼────────────────────────┼───────────────┤\n",
       "│ conv2d_84 (\u001b[38;5;33mConv2D\u001b[0m)              │ (\u001b[38;5;45mNone\u001b[0m, \u001b[38;5;34m109\u001b[0m, \u001b[38;5;34m109\u001b[0m, \u001b[38;5;34m64\u001b[0m)   │        \u001b[38;5;34m18,496\u001b[0m │\n",
       "├─────────────────────────────────┼────────────────────────┼───────────────┤\n",
       "│ max_pooling2d_84 (\u001b[38;5;33mMaxPooling2D\u001b[0m) │ (\u001b[38;5;45mNone\u001b[0m, \u001b[38;5;34m54\u001b[0m, \u001b[38;5;34m54\u001b[0m, \u001b[38;5;34m64\u001b[0m)     │             \u001b[38;5;34m0\u001b[0m │\n",
       "├─────────────────────────────────┼────────────────────────┼───────────────┤\n",
       "│ conv2d_85 (\u001b[38;5;33mConv2D\u001b[0m)              │ (\u001b[38;5;45mNone\u001b[0m, \u001b[38;5;34m52\u001b[0m, \u001b[38;5;34m52\u001b[0m, \u001b[38;5;34m128\u001b[0m)    │        \u001b[38;5;34m73,856\u001b[0m │\n",
       "├─────────────────────────────────┼────────────────────────┼───────────────┤\n",
       "│ max_pooling2d_85 (\u001b[38;5;33mMaxPooling2D\u001b[0m) │ (\u001b[38;5;45mNone\u001b[0m, \u001b[38;5;34m26\u001b[0m, \u001b[38;5;34m26\u001b[0m, \u001b[38;5;34m128\u001b[0m)    │             \u001b[38;5;34m0\u001b[0m │\n",
       "├─────────────────────────────────┼────────────────────────┼───────────────┤\n",
       "│ conv2d_86 (\u001b[38;5;33mConv2D\u001b[0m)              │ (\u001b[38;5;45mNone\u001b[0m, \u001b[38;5;34m24\u001b[0m, \u001b[38;5;34m24\u001b[0m, \u001b[38;5;34m128\u001b[0m)    │       \u001b[38;5;34m147,584\u001b[0m │\n",
       "├─────────────────────────────────┼────────────────────────┼───────────────┤\n",
       "│ max_pooling2d_86 (\u001b[38;5;33mMaxPooling2D\u001b[0m) │ (\u001b[38;5;45mNone\u001b[0m, \u001b[38;5;34m12\u001b[0m, \u001b[38;5;34m12\u001b[0m, \u001b[38;5;34m128\u001b[0m)    │             \u001b[38;5;34m0\u001b[0m │\n",
       "├─────────────────────────────────┼────────────────────────┼───────────────┤\n",
       "│ flatten_27 (\u001b[38;5;33mFlatten\u001b[0m)            │ (\u001b[38;5;45mNone\u001b[0m, \u001b[38;5;34m18432\u001b[0m)          │             \u001b[38;5;34m0\u001b[0m │\n",
       "├─────────────────────────────────┼────────────────────────┼───────────────┤\n",
       "│ dense_54 (\u001b[38;5;33mDense\u001b[0m)                │ (\u001b[38;5;45mNone\u001b[0m, \u001b[38;5;34m512\u001b[0m)            │     \u001b[38;5;34m9,437,696\u001b[0m │\n",
       "├─────────────────────────────────┼────────────────────────┼───────────────┤\n",
       "│ dense_55 (\u001b[38;5;33mDense\u001b[0m)                │ (\u001b[38;5;45mNone\u001b[0m, \u001b[38;5;34m3\u001b[0m)              │         \u001b[38;5;34m1,539\u001b[0m │\n",
       "└─────────────────────────────────┴────────────────────────┴───────────────┘\n"
      ]
     },
     "metadata": {},
     "output_type": "display_data"
    },
    {
     "data": {
      "text/html": [
       "<pre style=\"white-space:pre;overflow-x:auto;line-height:normal;font-family:Menlo,'DejaVu Sans Mono',consolas,'Courier New',monospace\"><span style=\"font-weight: bold\"> Total params: </span><span style=\"color: #00af00; text-decoration-color: #00af00\">9,680,067</span> (36.93 MB)\n",
       "</pre>\n"
      ],
      "text/plain": [
       "\u001b[1m Total params: \u001b[0m\u001b[38;5;34m9,680,067\u001b[0m (36.93 MB)\n"
      ]
     },
     "metadata": {},
     "output_type": "display_data"
    },
    {
     "data": {
      "text/html": [
       "<pre style=\"white-space:pre;overflow-x:auto;line-height:normal;font-family:Menlo,'DejaVu Sans Mono',consolas,'Courier New',monospace\"><span style=\"font-weight: bold\"> Trainable params: </span><span style=\"color: #00af00; text-decoration-color: #00af00\">9,680,067</span> (36.93 MB)\n",
       "</pre>\n"
      ],
      "text/plain": [
       "\u001b[1m Trainable params: \u001b[0m\u001b[38;5;34m9,680,067\u001b[0m (36.93 MB)\n"
      ]
     },
     "metadata": {},
     "output_type": "display_data"
    },
    {
     "data": {
      "text/html": [
       "<pre style=\"white-space:pre;overflow-x:auto;line-height:normal;font-family:Menlo,'DejaVu Sans Mono',consolas,'Courier New',monospace\"><span style=\"font-weight: bold\"> Non-trainable params: </span><span style=\"color: #00af00; text-decoration-color: #00af00\">0</span> (0.00 B)\n",
       "</pre>\n"
      ],
      "text/plain": [
       "\u001b[1m Non-trainable params: \u001b[0m\u001b[38;5;34m0\u001b[0m (0.00 B)\n"
      ]
     },
     "metadata": {},
     "output_type": "display_data"
    },
    {
     "name": "stdout",
     "output_type": "stream",
     "text": [
      "Epoch 1/50\n"
     ]
    },
    {
     "name": "stderr",
     "output_type": "stream",
     "text": [
      "/Users/ruojiakuang/anaconda3/lib/python3.11/site-packages/keras/src/trainers/data_adapters/py_dataset_adapter.py:121: UserWarning: Your `PyDataset` class should call `super().__init__(**kwargs)` in its constructor. `**kwargs` can include `workers`, `use_multiprocessing`, `max_queue_size`. Do not pass these arguments to `fit()`, as they will be ignored.\n",
      "  self._warn_if_super_not_called()\n"
     ]
    },
    {
     "name": "stdout",
     "output_type": "stream",
     "text": [
      "\u001b[1m24/24\u001b[0m \u001b[32m━━━━━━━━━━━━━━━━━━━━\u001b[0m\u001b[37m\u001b[0m \u001b[1m31s\u001b[0m 1s/step - acc: 0.4944 - loss: 2.6554 - val_acc: 0.4397 - val_loss: 1.0422\n",
      "Epoch 2/50\n",
      "\u001b[1m24/24\u001b[0m \u001b[32m━━━━━━━━━━━━━━━━━━━━\u001b[0m\u001b[37m\u001b[0m \u001b[1m28s\u001b[0m 1s/step - acc: 0.4420 - loss: 1.0353 - val_acc: 0.4397 - val_loss: 1.0194\n",
      "Epoch 3/50\n",
      "\u001b[1m24/24\u001b[0m \u001b[32m━━━━━━━━━━━━━━━━━━━━\u001b[0m\u001b[37m\u001b[0m \u001b[1m27s\u001b[0m 989ms/step - acc: 0.4585 - loss: 1.0036 - val_acc: 0.4483 - val_loss: 1.0154\n",
      "Epoch 4/50\n",
      "\u001b[1m24/24\u001b[0m \u001b[32m━━━━━━━━━━━━━━━━━━━━\u001b[0m\u001b[37m\u001b[0m \u001b[1m27s\u001b[0m 997ms/step - acc: 0.3941 - loss: 1.0478 - val_acc: 0.4397 - val_loss: 1.0245\n",
      "Epoch 5/50\n",
      "\u001b[1m24/24\u001b[0m \u001b[32m━━━━━━━━━━━━━━━━━━━━\u001b[0m\u001b[37m\u001b[0m \u001b[1m27s\u001b[0m 975ms/step - acc: 0.4704 - loss: 1.0327 - val_acc: 0.4138 - val_loss: 1.0240\n",
      "Epoch 6/50\n",
      "\u001b[1m24/24\u001b[0m \u001b[32m━━━━━━━━━━━━━━━━━━━━\u001b[0m\u001b[37m\u001b[0m \u001b[1m27s\u001b[0m 979ms/step - acc: 0.4806 - loss: 1.0668 - val_acc: 0.4914 - val_loss: 1.0044\n",
      "Epoch 7/50\n",
      "\u001b[1m24/24\u001b[0m \u001b[32m━━━━━━━━━━━━━━━━━━━━\u001b[0m\u001b[37m\u001b[0m \u001b[1m27s\u001b[0m 1s/step - acc: 0.5052 - loss: 0.9513 - val_acc: 0.4138 - val_loss: 1.0383\n",
      "Epoch 8/50\n",
      "\u001b[1m24/24\u001b[0m \u001b[32m━━━━━━━━━━━━━━━━━━━━\u001b[0m\u001b[37m\u001b[0m \u001b[1m27s\u001b[0m 995ms/step - acc: 0.5163 - loss: 0.9442 - val_acc: 0.5086 - val_loss: 0.9682\n",
      "Epoch 9/50\n",
      "\u001b[1m24/24\u001b[0m \u001b[32m━━━━━━━━━━━━━━━━━━━━\u001b[0m\u001b[37m\u001b[0m \u001b[1m29s\u001b[0m 1s/step - acc: 0.5327 - loss: 0.9444 - val_acc: 0.4655 - val_loss: 0.9466\n",
      "Epoch 10/50\n",
      "\u001b[1m24/24\u001b[0m \u001b[32m━━━━━━━━━━━━━━━━━━━━\u001b[0m\u001b[37m\u001b[0m \u001b[1m27s\u001b[0m 994ms/step - acc: 0.5256 - loss: 0.9367 - val_acc: 0.5431 - val_loss: 0.9369\n",
      "Epoch 11/50\n",
      "\u001b[1m24/24\u001b[0m \u001b[32m━━━━━━━━━━━━━━━━━━━━\u001b[0m\u001b[37m\u001b[0m \u001b[1m28s\u001b[0m 1s/step - acc: 0.5408 - loss: 1.0641 - val_acc: 0.5172 - val_loss: 0.9595\n",
      "Epoch 12/50\n",
      "\u001b[1m24/24\u001b[0m \u001b[32m━━━━━━━━━━━━━━━━━━━━\u001b[0m\u001b[37m\u001b[0m \u001b[1m27s\u001b[0m 976ms/step - acc: 0.6304 - loss: 0.8635 - val_acc: 0.4052 - val_loss: 1.2933\n",
      "Epoch 13/50\n",
      "\u001b[1m24/24\u001b[0m \u001b[32m━━━━━━━━━━━━━━━━━━━━\u001b[0m\u001b[37m\u001b[0m \u001b[1m26s\u001b[0m 968ms/step - acc: 0.5420 - loss: 0.9478 - val_acc: 0.4914 - val_loss: 0.9431\n",
      "Epoch 14/50\n",
      "\u001b[1m24/24\u001b[0m \u001b[32m━━━━━━━━━━━━━━━━━━━━\u001b[0m\u001b[37m\u001b[0m \u001b[1m27s\u001b[0m 976ms/step - acc: 0.5958 - loss: 0.8927 - val_acc: 0.5259 - val_loss: 0.9532\n",
      "Epoch 15/50\n",
      "\u001b[1m24/24\u001b[0m \u001b[32m━━━━━━━━━━━━━━━━━━━━\u001b[0m\u001b[37m\u001b[0m \u001b[1m26s\u001b[0m 975ms/step - acc: 0.5563 - loss: 0.8988 - val_acc: 0.5517 - val_loss: 0.8874\n",
      "Epoch 16/50\n",
      "\u001b[1m24/24\u001b[0m \u001b[32m━━━━━━━━━━━━━━━━━━━━\u001b[0m\u001b[37m\u001b[0m \u001b[1m27s\u001b[0m 1s/step - acc: 0.5692 - loss: 0.8596 - val_acc: 0.5172 - val_loss: 0.8486\n",
      "Epoch 17/50\n",
      "\u001b[1m24/24\u001b[0m \u001b[32m━━━━━━━━━━━━━━━━━━━━\u001b[0m\u001b[37m\u001b[0m \u001b[1m27s\u001b[0m 965ms/step - acc: 0.5792 - loss: 0.8459 - val_acc: 0.5776 - val_loss: 0.8853\n",
      "Epoch 18/50\n",
      "\u001b[1m24/24\u001b[0m \u001b[32m━━━━━━━━━━━━━━━━━━━━\u001b[0m\u001b[37m\u001b[0m \u001b[1m29s\u001b[0m 1s/step - acc: 0.6087 - loss: 0.8194 - val_acc: 0.5345 - val_loss: 0.8544\n",
      "Epoch 19/50\n",
      "\u001b[1m24/24\u001b[0m \u001b[32m━━━━━━━━━━━━━━━━━━━━\u001b[0m\u001b[37m\u001b[0m \u001b[1m27s\u001b[0m 989ms/step - acc: 0.6049 - loss: 0.8240 - val_acc: 0.5517 - val_loss: 0.8328\n",
      "Epoch 20/50\n",
      "\u001b[1m24/24\u001b[0m \u001b[32m━━━━━━━━━━━━━━━━━━━━\u001b[0m\u001b[37m\u001b[0m \u001b[1m29s\u001b[0m 1s/step - acc: 0.6057 - loss: 0.8031 - val_acc: 0.6034 - val_loss: 0.8427\n",
      "Epoch 21/50\n",
      "\u001b[1m24/24\u001b[0m \u001b[32m━━━━━━━━━━━━━━━━━━━━\u001b[0m\u001b[37m\u001b[0m \u001b[1m27s\u001b[0m 996ms/step - acc: 0.6175 - loss: 0.8279 - val_acc: 0.5776 - val_loss: 0.8250\n",
      "Epoch 22/50\n",
      "\u001b[1m24/24\u001b[0m \u001b[32m━━━━━━━━━━━━━━━━━━━━\u001b[0m\u001b[37m\u001b[0m \u001b[1m26s\u001b[0m 970ms/step - acc: 0.6308 - loss: 0.7658 - val_acc: 0.5517 - val_loss: 0.9507\n",
      "Epoch 23/50\n",
      "\u001b[1m24/24\u001b[0m \u001b[32m━━━━━━━━━━━━━━━━━━━━\u001b[0m\u001b[37m\u001b[0m \u001b[1m26s\u001b[0m 990ms/step - acc: 0.6807 - loss: 0.7486 - val_acc: 0.5259 - val_loss: 0.9392\n",
      "Epoch 24/50\n",
      "\u001b[1m24/24\u001b[0m \u001b[32m━━━━━━━━━━━━━━━━━━━━\u001b[0m\u001b[37m\u001b[0m \u001b[1m27s\u001b[0m 999ms/step - acc: 0.6086 - loss: 0.8679 - val_acc: 0.5345 - val_loss: 1.0144\n",
      "Epoch 25/50\n",
      "\u001b[1m24/24\u001b[0m \u001b[32m━━━━━━━━━━━━━━━━━━━━\u001b[0m\u001b[37m\u001b[0m \u001b[1m27s\u001b[0m 978ms/step - acc: 0.6587 - loss: 0.8146 - val_acc: 0.5259 - val_loss: 0.9384\n",
      "Epoch 26/50\n",
      "\u001b[1m24/24\u001b[0m \u001b[32m━━━━━━━━━━━━━━━━━━━━\u001b[0m\u001b[37m\u001b[0m \u001b[1m27s\u001b[0m 978ms/step - acc: 0.6607 - loss: 0.8126 - val_acc: 0.5172 - val_loss: 0.8470\n",
      "Epoch 27/50\n",
      "\u001b[1m24/24\u001b[0m \u001b[32m━━━━━━━━━━━━━━━━━━━━\u001b[0m\u001b[37m\u001b[0m \u001b[1m29s\u001b[0m 1s/step - acc: 0.6361 - loss: 0.7692 - val_acc: 0.5431 - val_loss: 1.0059\n",
      "Epoch 28/50\n",
      "\u001b[1m24/24\u001b[0m \u001b[32m━━━━━━━━━━━━━━━━━━━━\u001b[0m\u001b[37m\u001b[0m \u001b[1m27s\u001b[0m 987ms/step - acc: 0.6673 - loss: 0.7877 - val_acc: 0.5603 - val_loss: 0.8940\n",
      "Epoch 29/50\n",
      "\u001b[1m24/24\u001b[0m \u001b[32m━━━━━━━━━━━━━━━━━━━━\u001b[0m\u001b[37m\u001b[0m \u001b[1m26s\u001b[0m 970ms/step - acc: 0.6846 - loss: 0.6987 - val_acc: 0.6207 - val_loss: 0.8612\n",
      "Epoch 30/50\n",
      "\u001b[1m24/24\u001b[0m \u001b[32m━━━━━━━━━━━━━━━━━━━━\u001b[0m\u001b[37m\u001b[0m \u001b[1m28s\u001b[0m 1s/step - acc: 0.6516 - loss: 0.7699 - val_acc: 0.6466 - val_loss: 0.8195\n",
      "Epoch 31/50\n",
      "\u001b[1m24/24\u001b[0m \u001b[32m━━━━━━━━━━━━━━━━━━━━\u001b[0m\u001b[37m\u001b[0m \u001b[1m27s\u001b[0m 1s/step - acc: 0.6165 - loss: 0.7669 - val_acc: 0.6379 - val_loss: 0.8599\n",
      "Epoch 32/50\n",
      "\u001b[1m24/24\u001b[0m \u001b[32m━━━━━━━━━━━━━━━━━━━━\u001b[0m\u001b[37m\u001b[0m \u001b[1m27s\u001b[0m 1s/step - acc: 0.6869 - loss: 0.6436 - val_acc: 0.6552 - val_loss: 0.8329\n",
      "Epoch 33/50\n",
      "\u001b[1m24/24\u001b[0m \u001b[32m━━━━━━━━━━━━━━━━━━━━\u001b[0m\u001b[37m\u001b[0m \u001b[1m27s\u001b[0m 1s/step - acc: 0.6657 - loss: 0.7679 - val_acc: 0.6207 - val_loss: 0.8171\n",
      "Epoch 34/50\n",
      "\u001b[1m24/24\u001b[0m \u001b[32m━━━━━━━━━━━━━━━━━━━━\u001b[0m\u001b[37m\u001b[0m \u001b[1m30s\u001b[0m 1s/step - acc: 0.7092 - loss: 0.6678 - val_acc: 0.5776 - val_loss: 0.9126\n",
      "Epoch 35/50\n",
      "\u001b[1m24/24\u001b[0m \u001b[32m━━━━━━━━━━━━━━━━━━━━\u001b[0m\u001b[37m\u001b[0m \u001b[1m28s\u001b[0m 1s/step - acc: 0.7095 - loss: 0.6818 - val_acc: 0.6293 - val_loss: 0.8505\n",
      "Epoch 36/50\n",
      "\u001b[1m24/24\u001b[0m \u001b[32m━━━━━━━━━━━━━━━━━━━━\u001b[0m\u001b[37m\u001b[0m \u001b[1m26s\u001b[0m 966ms/step - acc: 0.6886 - loss: 0.6604 - val_acc: 0.6466 - val_loss: 0.9383\n",
      "Epoch 37/50\n",
      "\u001b[1m24/24\u001b[0m \u001b[32m━━━━━━━━━━━━━━━━━━━━\u001b[0m\u001b[37m\u001b[0m \u001b[1m26s\u001b[0m 969ms/step - acc: 0.6615 - loss: 0.7620 - val_acc: 0.6121 - val_loss: 0.9451\n",
      "Epoch 38/50\n",
      "\u001b[1m24/24\u001b[0m \u001b[32m━━━━━━━━━━━━━━━━━━━━\u001b[0m\u001b[37m\u001b[0m \u001b[1m27s\u001b[0m 969ms/step - acc: 0.6975 - loss: 0.6765 - val_acc: 0.6207 - val_loss: 0.8634\n",
      "Epoch 39/50\n",
      "\u001b[1m24/24\u001b[0m \u001b[32m━━━━━━━━━━━━━━━━━━━━\u001b[0m\u001b[37m\u001b[0m \u001b[1m27s\u001b[0m 989ms/step - acc: 0.7098 - loss: 0.6496 - val_acc: 0.6466 - val_loss: 0.8168\n",
      "Epoch 40/50\n",
      "\u001b[1m24/24\u001b[0m \u001b[32m━━━━━━━━━━━━━━━━━━━━\u001b[0m\u001b[37m\u001b[0m \u001b[1m28s\u001b[0m 1s/step - acc: 0.7304 - loss: 0.6271 - val_acc: 0.5948 - val_loss: 0.8634\n",
      "Epoch 41/50\n",
      "\u001b[1m24/24\u001b[0m \u001b[32m━━━━━━━━━━━━━━━━━━━━\u001b[0m\u001b[37m\u001b[0m \u001b[1m27s\u001b[0m 992ms/step - acc: 0.7602 - loss: 0.6076 - val_acc: 0.6207 - val_loss: 0.8361\n",
      "Epoch 42/50\n",
      "\u001b[1m24/24\u001b[0m \u001b[32m━━━━━━━━━━━━━━━━━━━━\u001b[0m\u001b[37m\u001b[0m \u001b[1m27s\u001b[0m 1s/step - acc: 0.7331 - loss: 0.6167 - val_acc: 0.6897 - val_loss: 0.8156\n",
      "Epoch 43/50\n",
      "\u001b[1m24/24\u001b[0m \u001b[32m━━━━━━━━━━━━━━━━━━━━\u001b[0m\u001b[37m\u001b[0m \u001b[1m26s\u001b[0m 976ms/step - acc: 0.7229 - loss: 0.6485 - val_acc: 0.6121 - val_loss: 0.9289\n",
      "Epoch 44/50\n",
      "\u001b[1m24/24\u001b[0m \u001b[32m━━━━━━━━━━━━━━━━━━━━\u001b[0m\u001b[37m\u001b[0m \u001b[1m26s\u001b[0m 969ms/step - acc: 0.7288 - loss: 0.5865 - val_acc: 0.6207 - val_loss: 0.8752\n",
      "Epoch 45/50\n",
      "\u001b[1m24/24\u001b[0m \u001b[32m━━━━━━━━━━━━━━━━━━━━\u001b[0m\u001b[37m\u001b[0m \u001b[1m26s\u001b[0m 958ms/step - acc: 0.7526 - loss: 0.5585 - val_acc: 0.5517 - val_loss: 0.9321\n",
      "Epoch 46/50\n",
      "\u001b[1m24/24\u001b[0m \u001b[32m━━━━━━━━━━━━━━━━━━━━\u001b[0m\u001b[37m\u001b[0m \u001b[1m27s\u001b[0m 982ms/step - acc: 0.7114 - loss: 0.6285 - val_acc: 0.5948 - val_loss: 0.8769\n",
      "Epoch 47/50\n",
      "\u001b[1m24/24\u001b[0m \u001b[32m━━━━━━━━━━━━━━━━━━━━\u001b[0m\u001b[37m\u001b[0m \u001b[1m28s\u001b[0m 1s/step - acc: 0.7057 - loss: 0.6544 - val_acc: 0.6293 - val_loss: 0.8749\n",
      "Epoch 48/50\n",
      "\u001b[1m24/24\u001b[0m \u001b[32m━━━━━━━━━━━━━━━━━━━━\u001b[0m\u001b[37m\u001b[0m \u001b[1m29s\u001b[0m 1s/step - acc: 0.7717 - loss: 0.6072 - val_acc: 0.5948 - val_loss: 0.8792\n",
      "Epoch 49/50\n",
      "\u001b[1m24/24\u001b[0m \u001b[32m━━━━━━━━━━━━━━━━━━━━\u001b[0m\u001b[37m\u001b[0m \u001b[1m25s\u001b[0m 908ms/step - acc: 0.7360 - loss: 0.5978 - val_acc: 0.6897 - val_loss: 0.7161\n",
      "Epoch 50/50\n",
      "\u001b[1m24/24\u001b[0m \u001b[32m━━━━━━━━━━━━━━━━━━━━\u001b[0m\u001b[37m\u001b[0m \u001b[1m25s\u001b[0m 945ms/step - acc: 0.7442 - loss: 0.5809 - val_acc: 0.6638 - val_loss: 0.8274\n"
     ]
    }
   ],
   "source": [
    "# Building models\n",
    "model = Sequential()\n",
    "model.add(Conv2D(32, (3, 3), activation='relu', input_shape=(224, 224, 3)))\n",
    "model.add(MaxPooling2D((2, 2)))\n",
    "model.add(Conv2D(64, (3, 3), activation='relu'))\n",
    "model.add(MaxPooling2D((2, 2)))\n",
    "model.add(Conv2D(128, (3, 3), activation='relu'))\n",
    "model.add(MaxPooling2D((2, 2)))\n",
    "model.add(Conv2D(128, (3, 3), activation='relu'))\n",
    "model.add(MaxPooling2D((2, 2)))\n",
    "model.add(Flatten())\n",
    "model.add(Dense(512, activation='relu'))\n",
    "model.add(Dense(3, activation='softmax'))  # Assuming there are three photographers\n",
    "\n",
    "model.summary()\n",
    "\n",
    "# Compile model\n",
    "model.compile(\n",
    "    optimizer='rmsprop',  # Using the RMSprop optimizer\n",
    "    loss='categorical_crossentropy',  # Using cross entropy loss in multi classification problems\n",
    "    metrics=['acc']  # Monitoring accuracy\n",
    ")\n",
    "\n",
    "# Set ModelCheckpoint callback to save the best model\n",
    "checkpoint = ModelCheckpoint('/Users/ruojiakuang/Desktop/GSB 545 Advanced ML/Lab 6 CNN/best_model.keras', monitor='val_loss', mode='min', save_best_only=True)\n",
    "\n",
    "# Training model\n",
    "history = model.fit(\n",
    "    train_gen,\n",
    "    # steps_per_epoch=train_gen.samples // train_gen.batch_size,\n",
    "    epochs=50,\n",
    "    validation_data=val_gen,\n",
    "    # validation_steps=val_gen.samples // val_gen.batch_size,\n",
    "    callbacks=[checkpoint]\n",
    ")"
   ]
  },
  {
   "cell_type": "code",
   "execution_count": 33,
   "id": "189422c7",
   "metadata": {},
   "outputs": [
    {
     "data": {
      "image/png": "[encoded data removed]",
      "text/plain": [
       "<Figure size 1200x500 with 2 Axes>"
      ]
     },
     "metadata": {},
     "output_type": "display_data"
    }
   ],
   "source": [
    "# Draw training accuracy and loss curve\n",
    "acc = history.history['acc']\n",
    "val_acc = history.history['val_acc']\n",
    "loss = history.history['loss']\n",
    "val_loss = history.history['val_loss']\n",
    "epochs = range(1, len(acc) + 1)\n",
    "\n",
    "plt.figure(figsize=(12, 5))\n",
    "\n",
    "plt.subplot(1, 2, 1)\n",
    "plt.plot(epochs, acc, 'bo', label='Training acc')\n",
    "plt.plot(epochs, val_acc, 'b', label='Validation acc')\n",
    "plt.title('Training and validation accuracy')\n",
    "plt.xlabel('Epochs')\n",
    "plt.ylabel('Accuracy')\n",
    "plt.legend()\n",
    "\n",
    "plt.subplot(1, 2, 2)\n",
    "plt.plot(epochs, loss, 'bo', label='Training loss')\n",
    "plt.plot(epochs, val_loss, 'b', label='Validation loss')\n",
    "plt.title('Training and validation loss')\n",
    "plt.xlabel('Epochs')\n",
    "plt.ylabel('Loss')\n",
    "plt.legend()\n",
    "\n",
    "plt.show()"
   ]
  },
  {
   "cell_type": "markdown",
   "id": "73b5e2b4",
   "metadata": {},
   "source": [
    "When Epochs close to 48, the model has the greatest accuracy and relatively small loss. \n",
    "\n",
    "### Prediction on Test Data"
   ]
  },
  {
   "cell_type": "code",
   "execution_count": 40,
   "id": "cbca53a8",
   "metadata": {},
   "outputs": [
    {
     "data": {
      "text/plain": [
       "array([1, 1, 1, 0, 1, 1, 1, 1, 1, 2, 0, 1, 1, 2, 1, 1, 0, 1, 1, 0])"
      ]
     },
     "execution_count": 40,
     "metadata": {},
     "output_type": "execute_result"
    }
   ],
   "source": [
    "predicted_classes"
   ]
  },
  {
   "cell_type": "code",
   "execution_count": 39,
   "id": "9b0aa2f0",
   "metadata": {},
   "outputs": [
    {
     "name": "stdout",
     "output_type": "stream",
     "text": [
      "Found 20 images belonging to 1 classes.\n",
      "\u001b[1m20/20\u001b[0m \u001b[32m━━━━━━━━━━━━━━━━━━━━\u001b[0m\u001b[37m\u001b[0m \u001b[1m1s\u001b[0m 19ms/step\n",
      "Photo 1 is predicted to be taken by: Kelly\n",
      "Photo 2 is predicted to be taken by: Kelly\n",
      "Photo 3 is predicted to be taken by: Kelly\n",
      "Photo 4 is predicted to be taken by: Alex\n",
      "Photo 5 is predicted to be taken by: Kelly\n",
      "Photo 6 is predicted to be taken by: Kelly\n",
      "Photo 7 is predicted to be taken by: Kelly\n",
      "Photo 8 is predicted to be taken by: Kelly\n",
      "Photo 9 is predicted to be taken by: Kelly\n",
      "Photo 10 is predicted to be taken by: Neither\n",
      "Photo 11 is predicted to be taken by: Alex\n",
      "Photo 12 is predicted to be taken by: Kelly\n",
      "Photo 13 is predicted to be taken by: Kelly\n",
      "Photo 14 is predicted to be taken by: Neither\n",
      "Photo 15 is predicted to be taken by: Kelly\n",
      "Photo 16 is predicted to be taken by: Kelly\n",
      "Photo 17 is predicted to be taken by: Alex\n",
      "Photo 18 is predicted to be taken by: Kelly\n",
      "Photo 19 is predicted to be taken by: Kelly\n",
      "Photo 20 is predicted to be taken by: Alex\n"
     ]
    }
   ],
   "source": [
    "from tensorflow import keras\n",
    "from tensorflow.keras.preprocessing.image import ImageDataGenerator\n",
    "import numpy as np\n",
    "import matplotlib.pyplot as plt\n",
    "\n",
    "# Load model\n",
    "model = keras.models.load_model('/Users/ruojiakuang/Desktop/GSB 545 Advanced ML/Lab 6 CNN/best_model.keras')  # Replace with your model save path\n",
    "\n",
    "# Test set path\n",
    "test_dir = '/Users/ruojiakuang/Desktop/GSB 545 Advanced ML/Lab 6 Data/Test'\n",
    "# Prepare test data generator\n",
    "test_datagen = ImageDataGenerator(rescale=1./255)\n",
    "test_gen = test_datagen.flow_from_directory(\n",
    "    test_dir,\n",
    "    target_size=(224, 224),\n",
    "    batch_size=1,  # Test sets typically use batch sizes of 1\n",
    "    class_mode=None\n",
    ")\n",
    "\n",
    "# Using models for prediction\n",
    "# Predict returns a probability distribution, and we use np.argmax to obtain the most likely category index\n",
    "predicted_probabilities = model.predict(test_gen)\n",
    "predicted_classes = np.argmax(predicted_probabilities, axis=1)\n",
    "\n",
    "# Assuming the photographer's label index is known, for example:\n",
    "# {'Alex': 0, 'Kelly': 1, 'Neither': 2}\n",
    "photographers = ['Alex', 'Kelly', 'Neither']\n",
    "\n",
    "# Convert the predicted category index to the photographer's name\n",
    "predicted_photographers = [photographers[class_index] for class_index in predicted_classes]\n",
    "\n",
    "# Print prediction results\n",
    "for i, photographer in enumerate(predicted_photographers):\n",
    "    print(f\"Photo {i+1} is predicted to be taken by: {photographer}\")"
   ]
  },
  {
   "cell_type": "code",
   "execution_count": null,
   "id": "04f2e81d",
   "metadata": {},
   "outputs": [],
   "source": []
  }
 ],
 "metadata": {
  "kernelspec": {
   "display_name": "Python 3 (ipykernel)",
   "language": "python",
   "name": "python3"
  },
  "language_info": {
   "codemirror_mode": {
    "name": "ipython",
    "version": 3
   },
   "file_extension": ".py",
   "mimetype": "text/x-python",
   "name": "python",
   "nbconvert_exporter": "python",
   "pygments_lexer": "ipython3",
   "version": "3.11.4"
  }
 },
 "nbformat": 4,
 "nbformat_minor": 5
}
