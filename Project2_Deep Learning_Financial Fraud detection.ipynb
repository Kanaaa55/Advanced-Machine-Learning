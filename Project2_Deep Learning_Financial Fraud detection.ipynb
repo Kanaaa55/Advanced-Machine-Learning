{
 "cells": [
  {
   "cell_type": "markdown",
   "id": "84635634",
   "metadata": {},
   "source": [
    "### Final Project: Financial fraud detection"
   ]
  },
  {
   "cell_type": "code",
   "execution_count": 7,
   "id": "5a35d590",
   "metadata": {},
   "outputs": [],
   "source": [
    "# Import libraries\n",
    "import csv\n",
    "import numpy as np\n",
    "import pandas as pd\n",
    "import seaborn as sns\n",
    "import matplotlib.pyplot as plt\n",
    "import warnings\n",
    "warnings.filterwarnings(\"ignore\")"
   ]
  },
  {
   "cell_type": "markdown",
   "id": "b2d53ad6",
   "metadata": {},
   "source": [
    "### Import and Preprocess the Data"
   ]
  },
  {
   "cell_type": "code",
   "execution_count": 2,
   "id": "8c1db286",
   "metadata": {},
   "outputs": [
    {
     "data": {
      "text/html": [
       "<div>\n",
       "<style scoped>\n",
       "    .dataframe tbody tr th:only-of-type {\n",
       "        vertical-align: middle;\n",
       "    }\n",
       "\n",
       "    .dataframe tbody tr th {\n",
       "        vertical-align: top;\n",
       "    }\n",
       "\n",
       "    .dataframe thead th {\n",
       "        text-align: right;\n",
       "    }\n",
       "</style>\n",
       "<table border=\"1\" class=\"dataframe\">\n",
       "  <thead>\n",
       "    <tr style=\"text-align: right;\">\n",
       "      <th></th>\n",
       "      <th>Unnamed: 0</th>\n",
       "      <th>Index</th>\n",
       "      <th>Address</th>\n",
       "      <th>FLAG</th>\n",
       "      <th>Avg min between sent tnx</th>\n",
       "      <th>Avg min between received tnx</th>\n",
       "      <th>Time Diff between first and last (Mins)</th>\n",
       "      <th>Sent tnx</th>\n",
       "      <th>Received Tnx</th>\n",
       "      <th>Number of Created Contracts</th>\n",
       "      <th>...</th>\n",
       "      <th>ERC20 min val sent</th>\n",
       "      <th>ERC20 max val sent</th>\n",
       "      <th>ERC20 avg val sent</th>\n",
       "      <th>ERC20 min val sent contract</th>\n",
       "      <th>ERC20 max val sent contract</th>\n",
       "      <th>ERC20 avg val sent contract</th>\n",
       "      <th>ERC20 uniq sent token name</th>\n",
       "      <th>ERC20 uniq rec token name</th>\n",
       "      <th>ERC20 most sent token type</th>\n",
       "      <th>ERC20_most_rec_token_type</th>\n",
       "    </tr>\n",
       "  </thead>\n",
       "  <tbody>\n",
       "    <tr>\n",
       "      <th>0</th>\n",
       "      <td>0</td>\n",
       "      <td>1</td>\n",
       "      <td>0x00009277775ac7d0d59eaad8fee3d10ac6c805e8</td>\n",
       "      <td>0</td>\n",
       "      <td>844.26</td>\n",
       "      <td>1093.71</td>\n",
       "      <td>704785.63</td>\n",
       "      <td>721</td>\n",
       "      <td>89</td>\n",
       "      <td>0</td>\n",
       "      <td>...</td>\n",
       "      <td>0.000000</td>\n",
       "      <td>1.683100e+07</td>\n",
       "      <td>271779.920000</td>\n",
       "      <td>0.0</td>\n",
       "      <td>0.0</td>\n",
       "      <td>0.0</td>\n",
       "      <td>39.0</td>\n",
       "      <td>57.0</td>\n",
       "      <td>Cofoundit</td>\n",
       "      <td>Numeraire</td>\n",
       "    </tr>\n",
       "    <tr>\n",
       "      <th>1</th>\n",
       "      <td>1</td>\n",
       "      <td>2</td>\n",
       "      <td>0x0002b44ddb1476db43c868bd494422ee4c136fed</td>\n",
       "      <td>0</td>\n",
       "      <td>12709.07</td>\n",
       "      <td>2958.44</td>\n",
       "      <td>1218216.73</td>\n",
       "      <td>94</td>\n",
       "      <td>8</td>\n",
       "      <td>0</td>\n",
       "      <td>...</td>\n",
       "      <td>2.260809</td>\n",
       "      <td>2.260809e+00</td>\n",
       "      <td>2.260809</td>\n",
       "      <td>0.0</td>\n",
       "      <td>0.0</td>\n",
       "      <td>0.0</td>\n",
       "      <td>1.0</td>\n",
       "      <td>7.0</td>\n",
       "      <td>Livepeer Token</td>\n",
       "      <td>Livepeer Token</td>\n",
       "    </tr>\n",
       "    <tr>\n",
       "      <th>2</th>\n",
       "      <td>2</td>\n",
       "      <td>3</td>\n",
       "      <td>0x0002bda54cb772d040f779e88eb453cac0daa244</td>\n",
       "      <td>0</td>\n",
       "      <td>246194.54</td>\n",
       "      <td>2434.02</td>\n",
       "      <td>516729.30</td>\n",
       "      <td>2</td>\n",
       "      <td>10</td>\n",
       "      <td>0</td>\n",
       "      <td>...</td>\n",
       "      <td>0.000000</td>\n",
       "      <td>0.000000e+00</td>\n",
       "      <td>0.000000</td>\n",
       "      <td>0.0</td>\n",
       "      <td>0.0</td>\n",
       "      <td>0.0</td>\n",
       "      <td>0.0</td>\n",
       "      <td>8.0</td>\n",
       "      <td>None</td>\n",
       "      <td>XENON</td>\n",
       "    </tr>\n",
       "    <tr>\n",
       "      <th>3</th>\n",
       "      <td>3</td>\n",
       "      <td>4</td>\n",
       "      <td>0x00038e6ba2fd5c09aedb96697c8d7b8fa6632e5e</td>\n",
       "      <td>0</td>\n",
       "      <td>10219.60</td>\n",
       "      <td>15785.09</td>\n",
       "      <td>397555.90</td>\n",
       "      <td>25</td>\n",
       "      <td>9</td>\n",
       "      <td>0</td>\n",
       "      <td>...</td>\n",
       "      <td>100.000000</td>\n",
       "      <td>9.029231e+03</td>\n",
       "      <td>3804.076893</td>\n",
       "      <td>0.0</td>\n",
       "      <td>0.0</td>\n",
       "      <td>0.0</td>\n",
       "      <td>1.0</td>\n",
       "      <td>11.0</td>\n",
       "      <td>Raiden</td>\n",
       "      <td>XENON</td>\n",
       "    </tr>\n",
       "    <tr>\n",
       "      <th>4</th>\n",
       "      <td>4</td>\n",
       "      <td>5</td>\n",
       "      <td>0x00062d1dd1afb6fb02540ddad9cdebfe568e0d89</td>\n",
       "      <td>0</td>\n",
       "      <td>36.61</td>\n",
       "      <td>10707.77</td>\n",
       "      <td>382472.42</td>\n",
       "      <td>4598</td>\n",
       "      <td>20</td>\n",
       "      <td>1</td>\n",
       "      <td>...</td>\n",
       "      <td>0.000000</td>\n",
       "      <td>4.500000e+04</td>\n",
       "      <td>13726.659220</td>\n",
       "      <td>0.0</td>\n",
       "      <td>0.0</td>\n",
       "      <td>0.0</td>\n",
       "      <td>6.0</td>\n",
       "      <td>27.0</td>\n",
       "      <td>StatusNetwork</td>\n",
       "      <td>EOS</td>\n",
       "    </tr>\n",
       "  </tbody>\n",
       "</table>\n",
       "<p>5 rows × 51 columns</p>\n",
       "</div>"
      ],
      "text/plain": [
       "   Unnamed: 0  Index                                     Address  FLAG  \\\n",
       "0           0      1  0x00009277775ac7d0d59eaad8fee3d10ac6c805e8     0   \n",
       "1           1      2  0x0002b44ddb1476db43c868bd494422ee4c136fed     0   \n",
       "2           2      3  0x0002bda54cb772d040f779e88eb453cac0daa244     0   \n",
       "3           3      4  0x00038e6ba2fd5c09aedb96697c8d7b8fa6632e5e     0   \n",
       "4           4      5  0x00062d1dd1afb6fb02540ddad9cdebfe568e0d89     0   \n",
       "\n",
       "   Avg min between sent tnx  Avg min between received tnx  \\\n",
       "0                    844.26                       1093.71   \n",
       "1                  12709.07                       2958.44   \n",
       "2                 246194.54                       2434.02   \n",
       "3                  10219.60                      15785.09   \n",
       "4                     36.61                      10707.77   \n",
       "\n",
       "   Time Diff between first and last (Mins)  Sent tnx  Received Tnx  \\\n",
       "0                                704785.63       721            89   \n",
       "1                               1218216.73        94             8   \n",
       "2                                516729.30         2            10   \n",
       "3                                397555.90        25             9   \n",
       "4                                382472.42      4598            20   \n",
       "\n",
       "   Number of Created Contracts  ...   ERC20 min val sent   ERC20 max val sent  \\\n",
       "0                            0  ...             0.000000         1.683100e+07   \n",
       "1                            0  ...             2.260809         2.260809e+00   \n",
       "2                            0  ...             0.000000         0.000000e+00   \n",
       "3                            0  ...           100.000000         9.029231e+03   \n",
       "4                            1  ...             0.000000         4.500000e+04   \n",
       "\n",
       "    ERC20 avg val sent   ERC20 min val sent contract  \\\n",
       "0        271779.920000                           0.0   \n",
       "1             2.260809                           0.0   \n",
       "2             0.000000                           0.0   \n",
       "3          3804.076893                           0.0   \n",
       "4         13726.659220                           0.0   \n",
       "\n",
       "    ERC20 max val sent contract   ERC20 avg val sent contract  \\\n",
       "0                           0.0                           0.0   \n",
       "1                           0.0                           0.0   \n",
       "2                           0.0                           0.0   \n",
       "3                           0.0                           0.0   \n",
       "4                           0.0                           0.0   \n",
       "\n",
       "    ERC20 uniq sent token name   ERC20 uniq rec token name  \\\n",
       "0                         39.0                        57.0   \n",
       "1                          1.0                         7.0   \n",
       "2                          0.0                         8.0   \n",
       "3                          1.0                        11.0   \n",
       "4                          6.0                        27.0   \n",
       "\n",
       "    ERC20 most sent token type   ERC20_most_rec_token_type  \n",
       "0                    Cofoundit                   Numeraire  \n",
       "1               Livepeer Token              Livepeer Token  \n",
       "2                         None                       XENON  \n",
       "3                       Raiden                       XENON  \n",
       "4                StatusNetwork                         EOS  \n",
       "\n",
       "[5 rows x 51 columns]"
      ]
     },
     "execution_count": 2,
     "metadata": {},
     "output_type": "execute_result"
    }
   ],
   "source": [
    "# Get the real data from https://www.kaggle.com/datasets/vagifa/ethereum-frauddetection-dataset\n",
    "data = pd.read_csv('/Users/ruojiakuang/Desktop/GSB 545 Advanced ML/Final Project/ethereum_dataset.csv')\n",
    "data.head()"
   ]
  },
  {
   "cell_type": "markdown",
   "id": "26d4b50d",
   "metadata": {},
   "source": [
    "We choose FLAG as our targeted variable, and choose the following columns as our predictors: Avg min between sent tnx, Avg_min_between_received_tnx, Time_Diff_between_first_and_last(Mins), Sent_tnx, Received_tnx, Number_of_Created_Contracts, Unique_Received_From_Addresses, Unique_Sent_To_Addresses20, Min_Value_Received, Max_Value_Received, Avg_Value_Received, Min_Val_Sent, Max_Val_Sent, Avg_Val_Sent variables."
   ]
  },
  {
   "cell_type": "code",
   "execution_count": 3,
   "id": "b42bd518",
   "metadata": {},
   "outputs": [
    {
     "data": {
      "text/html": [
       "<div>\n",
       "<style scoped>\n",
       "    .dataframe tbody tr th:only-of-type {\n",
       "        vertical-align: middle;\n",
       "    }\n",
       "\n",
       "    .dataframe tbody tr th {\n",
       "        vertical-align: top;\n",
       "    }\n",
       "\n",
       "    .dataframe thead th {\n",
       "        text-align: right;\n",
       "    }\n",
       "</style>\n",
       "<table border=\"1\" class=\"dataframe\">\n",
       "  <thead>\n",
       "    <tr style=\"text-align: right;\">\n",
       "      <th></th>\n",
       "      <th>FLAG</th>\n",
       "      <th>Avg min between sent tnx</th>\n",
       "      <th>Avg min between received tnx</th>\n",
       "      <th>Time Diff between first and last (Mins)</th>\n",
       "      <th>Sent tnx</th>\n",
       "      <th>Received Tnx</th>\n",
       "      <th>Number of Created Contracts</th>\n",
       "      <th>Unique Received From Addresses</th>\n",
       "      <th>Unique Sent To Addresses</th>\n",
       "      <th>min value received</th>\n",
       "      <th>max value received</th>\n",
       "      <th>avg val received</th>\n",
       "      <th>min val sent</th>\n",
       "      <th>max val sent</th>\n",
       "      <th>avg val sent</th>\n",
       "    </tr>\n",
       "  </thead>\n",
       "  <tbody>\n",
       "    <tr>\n",
       "      <th>0</th>\n",
       "      <td>0</td>\n",
       "      <td>844.26</td>\n",
       "      <td>1093.71</td>\n",
       "      <td>704785.63</td>\n",
       "      <td>721</td>\n",
       "      <td>89</td>\n",
       "      <td>0</td>\n",
       "      <td>40</td>\n",
       "      <td>118</td>\n",
       "      <td>0.000000</td>\n",
       "      <td>45.806785</td>\n",
       "      <td>6.589513</td>\n",
       "      <td>0.00</td>\n",
       "      <td>31.220000</td>\n",
       "      <td>1.200681</td>\n",
       "    </tr>\n",
       "    <tr>\n",
       "      <th>1</th>\n",
       "      <td>0</td>\n",
       "      <td>12709.07</td>\n",
       "      <td>2958.44</td>\n",
       "      <td>1218216.73</td>\n",
       "      <td>94</td>\n",
       "      <td>8</td>\n",
       "      <td>0</td>\n",
       "      <td>5</td>\n",
       "      <td>14</td>\n",
       "      <td>0.000000</td>\n",
       "      <td>2.613269</td>\n",
       "      <td>0.385685</td>\n",
       "      <td>0.00</td>\n",
       "      <td>1.800000</td>\n",
       "      <td>0.032844</td>\n",
       "    </tr>\n",
       "    <tr>\n",
       "      <th>2</th>\n",
       "      <td>0</td>\n",
       "      <td>246194.54</td>\n",
       "      <td>2434.02</td>\n",
       "      <td>516729.30</td>\n",
       "      <td>2</td>\n",
       "      <td>10</td>\n",
       "      <td>0</td>\n",
       "      <td>10</td>\n",
       "      <td>2</td>\n",
       "      <td>0.113119</td>\n",
       "      <td>1.165453</td>\n",
       "      <td>0.358906</td>\n",
       "      <td>0.05</td>\n",
       "      <td>3.538616</td>\n",
       "      <td>1.794308</td>\n",
       "    </tr>\n",
       "    <tr>\n",
       "      <th>3</th>\n",
       "      <td>0</td>\n",
       "      <td>10219.60</td>\n",
       "      <td>15785.09</td>\n",
       "      <td>397555.90</td>\n",
       "      <td>25</td>\n",
       "      <td>9</td>\n",
       "      <td>0</td>\n",
       "      <td>7</td>\n",
       "      <td>13</td>\n",
       "      <td>0.000000</td>\n",
       "      <td>500.000000</td>\n",
       "      <td>99.488840</td>\n",
       "      <td>0.00</td>\n",
       "      <td>450.000000</td>\n",
       "      <td>70.001834</td>\n",
       "    </tr>\n",
       "    <tr>\n",
       "      <th>4</th>\n",
       "      <td>0</td>\n",
       "      <td>36.61</td>\n",
       "      <td>10707.77</td>\n",
       "      <td>382472.42</td>\n",
       "      <td>4598</td>\n",
       "      <td>20</td>\n",
       "      <td>1</td>\n",
       "      <td>7</td>\n",
       "      <td>19</td>\n",
       "      <td>0.000000</td>\n",
       "      <td>12.802411</td>\n",
       "      <td>2.671095</td>\n",
       "      <td>0.00</td>\n",
       "      <td>9.000000</td>\n",
       "      <td>0.022688</td>\n",
       "    </tr>\n",
       "  </tbody>\n",
       "</table>\n",
       "</div>"
      ],
      "text/plain": [
       "   FLAG  Avg min between sent tnx  Avg min between received tnx  \\\n",
       "0     0                    844.26                       1093.71   \n",
       "1     0                  12709.07                       2958.44   \n",
       "2     0                 246194.54                       2434.02   \n",
       "3     0                  10219.60                      15785.09   \n",
       "4     0                     36.61                      10707.77   \n",
       "\n",
       "   Time Diff between first and last (Mins)  Sent tnx  Received Tnx  \\\n",
       "0                                704785.63       721            89   \n",
       "1                               1218216.73        94             8   \n",
       "2                                516729.30         2            10   \n",
       "3                                397555.90        25             9   \n",
       "4                                382472.42      4598            20   \n",
       "\n",
       "   Number of Created Contracts  Unique Received From Addresses  \\\n",
       "0                            0                              40   \n",
       "1                            0                               5   \n",
       "2                            0                              10   \n",
       "3                            0                               7   \n",
       "4                            1                               7   \n",
       "\n",
       "   Unique Sent To Addresses  min value received  max value received   \\\n",
       "0                       118            0.000000            45.806785   \n",
       "1                        14            0.000000             2.613269   \n",
       "2                         2            0.113119             1.165453   \n",
       "3                        13            0.000000           500.000000   \n",
       "4                        19            0.000000            12.802411   \n",
       "\n",
       "   avg val received  min val sent  max val sent  avg val sent  \n",
       "0          6.589513          0.00     31.220000      1.200681  \n",
       "1          0.385685          0.00      1.800000      0.032844  \n",
       "2          0.358906          0.05      3.538616      1.794308  \n",
       "3         99.488840          0.00    450.000000     70.001834  \n",
       "4          2.671095          0.00      9.000000      0.022688  "
      ]
     },
     "execution_count": 3,
     "metadata": {},
     "output_type": "execute_result"
    }
   ],
   "source": [
    "data = data.iloc[:,3:18]\n",
    "data.head()"
   ]
  },
  {
   "cell_type": "code",
   "execution_count": 4,
   "id": "f4e6843c",
   "metadata": {},
   "outputs": [
    {
     "data": {
      "text/plain": [
       "FLAG                                         int64\n",
       "Avg min between sent tnx                   float64\n",
       "Avg min between received tnx               float64\n",
       "Time Diff between first and last (Mins)    float64\n",
       "Sent tnx                                     int64\n",
       "Received Tnx                                 int64\n",
       "Number of Created Contracts                  int64\n",
       "Unique Received From Addresses               int64\n",
       "Unique Sent To Addresses                     int64\n",
       "min value received                         float64\n",
       "max value received                         float64\n",
       "avg val received                           float64\n",
       "min val sent                               float64\n",
       "max val sent                               float64\n",
       "avg val sent                               float64\n",
       "dtype: object"
      ]
     },
     "execution_count": 4,
     "metadata": {},
     "output_type": "execute_result"
    }
   ],
   "source": [
    "data.dtypes"
   ]
  },
  {
   "cell_type": "code",
   "execution_count": 5,
   "id": "0340eff6",
   "metadata": {},
   "outputs": [
    {
     "data": {
      "text/plain": [
       "FLAG                                       0\n",
       "Avg min between sent tnx                   0\n",
       "Avg min between received tnx               0\n",
       "Time Diff between first and last (Mins)    0\n",
       "Sent tnx                                   0\n",
       "Received Tnx                               0\n",
       "Number of Created Contracts                0\n",
       "Unique Received From Addresses             0\n",
       "Unique Sent To Addresses                   0\n",
       "min value received                         0\n",
       "max value received                         0\n",
       "avg val received                           0\n",
       "min val sent                               0\n",
       "max val sent                               0\n",
       "avg val sent                               0\n",
       "dtype: int64"
      ]
     },
     "execution_count": 5,
     "metadata": {},
     "output_type": "execute_result"
    }
   ],
   "source": [
    "data.isna().sum()"
   ]
  },
  {
   "cell_type": "code",
   "execution_count": 6,
   "id": "811fbbef",
   "metadata": {},
   "outputs": [
    {
     "data": {
      "text/plain": [
       "array([0, 1])"
      ]
     },
     "execution_count": 6,
     "metadata": {},
     "output_type": "execute_result"
    }
   ],
   "source": [
    "data['FLAG'].unique()"
   ]
  },
  {
   "cell_type": "markdown",
   "id": "5e925464",
   "metadata": {},
   "source": [
    "FLAG is 0, indicating no fraud detected; FLAG is 1, indicating fraud detected."
   ]
  },
  {
   "cell_type": "code",
   "execution_count": 8,
   "id": "b3e1cca3",
   "metadata": {},
   "outputs": [
    {
     "data": {
      "text/html": [
       "<div>\n",
       "<style scoped>\n",
       "    .dataframe tbody tr th:only-of-type {\n",
       "        vertical-align: middle;\n",
       "    }\n",
       "\n",
       "    .dataframe tbody tr th {\n",
       "        vertical-align: top;\n",
       "    }\n",
       "\n",
       "    .dataframe thead th {\n",
       "        text-align: right;\n",
       "    }\n",
       "</style>\n",
       "<table border=\"1\" class=\"dataframe\">\n",
       "  <thead>\n",
       "    <tr style=\"text-align: right;\">\n",
       "      <th></th>\n",
       "      <th>FLAG</th>\n",
       "      <th>Avg min between sent tnx</th>\n",
       "      <th>Avg min between received tnx</th>\n",
       "      <th>Time Diff between first and last (Mins)</th>\n",
       "      <th>Sent tnx</th>\n",
       "      <th>Received Tnx</th>\n",
       "      <th>Number of Created Contracts</th>\n",
       "      <th>Unique Received From Addresses</th>\n",
       "      <th>Unique Sent To Addresses</th>\n",
       "      <th>min value received</th>\n",
       "      <th>max value received</th>\n",
       "      <th>avg val received</th>\n",
       "      <th>min val sent</th>\n",
       "      <th>max val sent</th>\n",
       "      <th>avg val sent</th>\n",
       "    </tr>\n",
       "  </thead>\n",
       "  <tbody>\n",
       "    <tr>\n",
       "      <th>count</th>\n",
       "      <td>9841.000000</td>\n",
       "      <td>9841.000000</td>\n",
       "      <td>9841.000000</td>\n",
       "      <td>9.841000e+03</td>\n",
       "      <td>9841.000000</td>\n",
       "      <td>9841.000000</td>\n",
       "      <td>9841.000000</td>\n",
       "      <td>9841.000000</td>\n",
       "      <td>9841.000000</td>\n",
       "      <td>9841.000000</td>\n",
       "      <td>9841.000000</td>\n",
       "      <td>9841.000000</td>\n",
       "      <td>9841.000000</td>\n",
       "      <td>9841.000000</td>\n",
       "      <td>9841.000000</td>\n",
       "    </tr>\n",
       "    <tr>\n",
       "      <th>mean</th>\n",
       "      <td>0.221421</td>\n",
       "      <td>5086.878721</td>\n",
       "      <td>8004.851184</td>\n",
       "      <td>2.183333e+05</td>\n",
       "      <td>115.931714</td>\n",
       "      <td>163.700945</td>\n",
       "      <td>3.729702</td>\n",
       "      <td>30.360939</td>\n",
       "      <td>25.840159</td>\n",
       "      <td>43.845153</td>\n",
       "      <td>523.152481</td>\n",
       "      <td>100.711721</td>\n",
       "      <td>4.800090</td>\n",
       "      <td>314.617297</td>\n",
       "      <td>44.755731</td>\n",
       "    </tr>\n",
       "    <tr>\n",
       "      <th>std</th>\n",
       "      <td>0.415224</td>\n",
       "      <td>21486.549974</td>\n",
       "      <td>23081.714801</td>\n",
       "      <td>3.229379e+05</td>\n",
       "      <td>757.226361</td>\n",
       "      <td>940.836550</td>\n",
       "      <td>141.445583</td>\n",
       "      <td>298.621112</td>\n",
       "      <td>263.820410</td>\n",
       "      <td>325.929139</td>\n",
       "      <td>13008.821539</td>\n",
       "      <td>2885.002236</td>\n",
       "      <td>138.609682</td>\n",
       "      <td>6629.212643</td>\n",
       "      <td>239.080215</td>\n",
       "    </tr>\n",
       "    <tr>\n",
       "      <th>min</th>\n",
       "      <td>0.000000</td>\n",
       "      <td>0.000000</td>\n",
       "      <td>0.000000</td>\n",
       "      <td>0.000000e+00</td>\n",
       "      <td>0.000000</td>\n",
       "      <td>0.000000</td>\n",
       "      <td>0.000000</td>\n",
       "      <td>0.000000</td>\n",
       "      <td>0.000000</td>\n",
       "      <td>0.000000</td>\n",
       "      <td>0.000000</td>\n",
       "      <td>0.000000</td>\n",
       "      <td>0.000000</td>\n",
       "      <td>0.000000</td>\n",
       "      <td>0.000000</td>\n",
       "    </tr>\n",
       "    <tr>\n",
       "      <th>25%</th>\n",
       "      <td>0.000000</td>\n",
       "      <td>0.000000</td>\n",
       "      <td>0.000000</td>\n",
       "      <td>3.169300e+02</td>\n",
       "      <td>1.000000</td>\n",
       "      <td>1.000000</td>\n",
       "      <td>0.000000</td>\n",
       "      <td>1.000000</td>\n",
       "      <td>1.000000</td>\n",
       "      <td>0.001000</td>\n",
       "      <td>1.000000</td>\n",
       "      <td>0.426905</td>\n",
       "      <td>0.000000</td>\n",
       "      <td>0.164577</td>\n",
       "      <td>0.086184</td>\n",
       "    </tr>\n",
       "    <tr>\n",
       "      <th>50%</th>\n",
       "      <td>0.000000</td>\n",
       "      <td>17.340000</td>\n",
       "      <td>509.770000</td>\n",
       "      <td>4.663703e+04</td>\n",
       "      <td>3.000000</td>\n",
       "      <td>4.000000</td>\n",
       "      <td>0.000000</td>\n",
       "      <td>2.000000</td>\n",
       "      <td>2.000000</td>\n",
       "      <td>0.095856</td>\n",
       "      <td>6.000000</td>\n",
       "      <td>1.729730</td>\n",
       "      <td>0.049126</td>\n",
       "      <td>4.999380</td>\n",
       "      <td>1.606000</td>\n",
       "    </tr>\n",
       "    <tr>\n",
       "      <th>75%</th>\n",
       "      <td>0.000000</td>\n",
       "      <td>565.470000</td>\n",
       "      <td>5480.390000</td>\n",
       "      <td>3.040710e+05</td>\n",
       "      <td>11.000000</td>\n",
       "      <td>27.000000</td>\n",
       "      <td>0.000000</td>\n",
       "      <td>5.000000</td>\n",
       "      <td>3.000000</td>\n",
       "      <td>2.000000</td>\n",
       "      <td>67.067040</td>\n",
       "      <td>22.000000</td>\n",
       "      <td>0.998800</td>\n",
       "      <td>61.520653</td>\n",
       "      <td>21.999380</td>\n",
       "    </tr>\n",
       "    <tr>\n",
       "      <th>max</th>\n",
       "      <td>1.000000</td>\n",
       "      <td>430287.670000</td>\n",
       "      <td>482175.490000</td>\n",
       "      <td>1.954861e+06</td>\n",
       "      <td>10000.000000</td>\n",
       "      <td>10000.000000</td>\n",
       "      <td>9995.000000</td>\n",
       "      <td>9999.000000</td>\n",
       "      <td>9287.000000</td>\n",
       "      <td>10000.000000</td>\n",
       "      <td>800000.000000</td>\n",
       "      <td>283618.831600</td>\n",
       "      <td>12000.000000</td>\n",
       "      <td>520000.000000</td>\n",
       "      <td>12000.000000</td>\n",
       "    </tr>\n",
       "  </tbody>\n",
       "</table>\n",
       "</div>"
      ],
      "text/plain": [
       "              FLAG  Avg min between sent tnx  Avg min between received tnx  \\\n",
       "count  9841.000000               9841.000000                   9841.000000   \n",
       "mean      0.221421               5086.878721                   8004.851184   \n",
       "std       0.415224              21486.549974                  23081.714801   \n",
       "min       0.000000                  0.000000                      0.000000   \n",
       "25%       0.000000                  0.000000                      0.000000   \n",
       "50%       0.000000                 17.340000                    509.770000   \n",
       "75%       0.000000                565.470000                   5480.390000   \n",
       "max       1.000000             430287.670000                 482175.490000   \n",
       "\n",
       "       Time Diff between first and last (Mins)      Sent tnx  Received Tnx  \\\n",
       "count                             9.841000e+03   9841.000000   9841.000000   \n",
       "mean                              2.183333e+05    115.931714    163.700945   \n",
       "std                               3.229379e+05    757.226361    940.836550   \n",
       "min                               0.000000e+00      0.000000      0.000000   \n",
       "25%                               3.169300e+02      1.000000      1.000000   \n",
       "50%                               4.663703e+04      3.000000      4.000000   \n",
       "75%                               3.040710e+05     11.000000     27.000000   \n",
       "max                               1.954861e+06  10000.000000  10000.000000   \n",
       "\n",
       "       Number of Created Contracts  Unique Received From Addresses  \\\n",
       "count                  9841.000000                     9841.000000   \n",
       "mean                      3.729702                       30.360939   \n",
       "std                     141.445583                      298.621112   \n",
       "min                       0.000000                        0.000000   \n",
       "25%                       0.000000                        1.000000   \n",
       "50%                       0.000000                        2.000000   \n",
       "75%                       0.000000                        5.000000   \n",
       "max                    9995.000000                     9999.000000   \n",
       "\n",
       "       Unique Sent To Addresses  min value received  max value received   \\\n",
       "count               9841.000000         9841.000000          9841.000000   \n",
       "mean                  25.840159           43.845153           523.152481   \n",
       "std                  263.820410          325.929139         13008.821539   \n",
       "min                    0.000000            0.000000             0.000000   \n",
       "25%                    1.000000            0.001000             1.000000   \n",
       "50%                    2.000000            0.095856             6.000000   \n",
       "75%                    3.000000            2.000000            67.067040   \n",
       "max                 9287.000000        10000.000000        800000.000000   \n",
       "\n",
       "       avg val received  min val sent   max val sent  avg val sent  \n",
       "count       9841.000000   9841.000000    9841.000000   9841.000000  \n",
       "mean         100.711721      4.800090     314.617297     44.755731  \n",
       "std         2885.002236    138.609682    6629.212643    239.080215  \n",
       "min            0.000000      0.000000       0.000000      0.000000  \n",
       "25%            0.426905      0.000000       0.164577      0.086184  \n",
       "50%            1.729730      0.049126       4.999380      1.606000  \n",
       "75%           22.000000      0.998800      61.520653     21.999380  \n",
       "max       283618.831600  12000.000000  520000.000000  12000.000000  "
      ]
     },
     "execution_count": 8,
     "metadata": {},
     "output_type": "execute_result"
    }
   ],
   "source": [
    "data.describe()"
   ]
  },
  {
   "cell_type": "code",
   "execution_count": 9,
   "id": "6dc950fb",
   "metadata": {},
   "outputs": [
    {
     "data": {
      "text/plain": [
       "0    7662\n",
       "1    2179\n",
       "Name: FLAG, dtype: int64"
      ]
     },
     "execution_count": 9,
     "metadata": {},
     "output_type": "execute_result"
    }
   ],
   "source": [
    "data.FLAG.value_counts()"
   ]
  },
  {
   "cell_type": "code",
   "execution_count": 10,
   "id": "6d16d8d5",
   "metadata": {},
   "outputs": [
    {
     "data": {
      "text/plain": [
       "<Axes: xlabel='FLAG', ylabel='count'>"
      ]
     },
     "execution_count": 10,
     "metadata": {},
     "output_type": "execute_result"
    },
    {
     "data": {
      "image/png": "[encoded data removed]",
      "text/plain": [
       "<Figure size 640x480 with 1 Axes>"
      ]
     },
     "metadata": {},
     "output_type": "display_data"
    }
   ],
   "source": [
    "sns.countplot(x = data.FLAG)"
   ]
  },
  {
   "cell_type": "markdown",
   "id": "7e5a23e4",
   "metadata": {},
   "source": [
    "### Modeling"
   ]
  },
  {
   "cell_type": "code",
   "execution_count": 13,
   "id": "10ca15a0",
   "metadata": {},
   "outputs": [
    {
     "name": "stdout",
     "output_type": "stream",
     "text": [
      "Number of training samples: 7872\n",
      "Number of validation samples: 1969\n"
     ]
    }
   ],
   "source": [
    "# Prepare the training and validating set\n",
    "from sklearn.model_selection import train_test_split\n",
    "all_features = data.iloc[:, 1:].values\n",
    "all_targets = data.iloc[:, [0]].values\n",
    "\n",
    "train_features, val_features, train_targets, val_targets = train_test_split(\n",
    "    all_features, all_targets, test_size=0.2, random_state=42)\n",
    "\n",
    "print(\"Number of training samples:\", len(train_features))\n",
    "print(\"Number of validation samples:\", len(val_features))"
   ]
  },
  {
   "cell_type": "markdown",
   "id": "3bb5bd93",
   "metadata": {},
   "source": [
    "### Analyze class imbalance in the targets"
   ]
  },
  {
   "cell_type": "code",
   "execution_count": 16,
   "id": "ee759fa4",
   "metadata": {},
   "outputs": [
    {
     "name": "stdout",
     "output_type": "stream",
     "text": [
      "Number of positive samples in training data: 1752 (22.26% of total)\n"
     ]
    }
   ],
   "source": [
    "counts = np.bincount(train_targets[:, 0])\n",
    "print(\n",
    "    \"Number of positive samples in training data: {} ({:.2f}% of total)\".format(\n",
    "        counts[1], 100 * float(counts[1]) / len(train_targets)\n",
    "    )\n",
    ")\n",
    "\n",
    "weight_for_0 = 1.0 / counts[0]\n",
    "weight_for_1 = 1.0 / counts[1]"
   ]
  },
  {
   "cell_type": "markdown",
   "id": "a7294aa0",
   "metadata": {},
   "source": [
    "### Normalize the data using training set statistics"
   ]
  },
  {
   "cell_type": "code",
   "execution_count": 14,
   "id": "91d16f58",
   "metadata": {},
   "outputs": [],
   "source": [
    "mean = np.mean(train_features, axis=0)\n",
    "train_features -= mean\n",
    "val_features -= mean\n",
    "std = np.std(train_features, axis=0)\n",
    "train_features /= std\n",
    "val_features /= std"
   ]
  },
  {
   "cell_type": "markdown",
   "id": "d189da37",
   "metadata": {},
   "source": [
    "### Build a binary classification model"
   ]
  },
  {
   "cell_type": "code",
   "execution_count": 15,
   "id": "affe80a3",
   "metadata": {},
   "outputs": [
    {
     "name": "stderr",
     "output_type": "stream",
     "text": [
      "2024-06-10 19:24:08.031095: I tensorflow/core/platform/cpu_feature_guard.cc:210] This TensorFlow binary is optimized to use available CPU instructions in performance-critical operations.\n",
      "To enable the following instructions: AVX2 FMA, in other operations, rebuild TensorFlow with the appropriate compiler flags.\n"
     ]
    },
    {
     "data": {
      "text/html": [
       "<pre style=\"white-space:pre;overflow-x:auto;line-height:normal;font-family:Menlo,'DejaVu Sans Mono',consolas,'Courier New',monospace\"><span style=\"font-weight: bold\">Model: \"sequential\"</span>\n",
       "</pre>\n"
      ],
      "text/plain": [
       "\u001b[1mModel: \"sequential\"\u001b[0m\n"
      ]
     },
     "metadata": {},
     "output_type": "display_data"
    },
    {
     "data": {
      "text/html": [
       "<pre style=\"white-space:pre;overflow-x:auto;line-height:normal;font-family:Menlo,'DejaVu Sans Mono',consolas,'Courier New',monospace\">┏━━━━━━━━━━━━━━━━━━━━━━━━━━━━━━━━━┳━━━━━━━━━━━━━━━━━━━━━━━━┳━━━━━━━━━━━━━━━┓\n",
       "┃<span style=\"font-weight: bold\"> Layer (type)                    </span>┃<span style=\"font-weight: bold\"> Output Shape           </span>┃<span style=\"font-weight: bold\">       Param # </span>┃\n",
       "┡━━━━━━━━━━━━━━━━━━━━━━━━━━━━━━━━━╇━━━━━━━━━━━━━━━━━━━━━━━━╇━━━━━━━━━━━━━━━┩\n",
       "│ dense (<span style=\"color: #0087ff; text-decoration-color: #0087ff\">Dense</span>)                   │ (<span style=\"color: #00d7ff; text-decoration-color: #00d7ff\">None</span>, <span style=\"color: #00af00; text-decoration-color: #00af00\">256</span>)            │         <span style=\"color: #00af00; text-decoration-color: #00af00\">3,840</span> │\n",
       "├─────────────────────────────────┼────────────────────────┼───────────────┤\n",
       "│ dense_1 (<span style=\"color: #0087ff; text-decoration-color: #0087ff\">Dense</span>)                 │ (<span style=\"color: #00d7ff; text-decoration-color: #00d7ff\">None</span>, <span style=\"color: #00af00; text-decoration-color: #00af00\">256</span>)            │        <span style=\"color: #00af00; text-decoration-color: #00af00\">65,792</span> │\n",
       "├─────────────────────────────────┼────────────────────────┼───────────────┤\n",
       "│ dropout (<span style=\"color: #0087ff; text-decoration-color: #0087ff\">Dropout</span>)               │ (<span style=\"color: #00d7ff; text-decoration-color: #00d7ff\">None</span>, <span style=\"color: #00af00; text-decoration-color: #00af00\">256</span>)            │             <span style=\"color: #00af00; text-decoration-color: #00af00\">0</span> │\n",
       "├─────────────────────────────────┼────────────────────────┼───────────────┤\n",
       "│ dense_2 (<span style=\"color: #0087ff; text-decoration-color: #0087ff\">Dense</span>)                 │ (<span style=\"color: #00d7ff; text-decoration-color: #00d7ff\">None</span>, <span style=\"color: #00af00; text-decoration-color: #00af00\">256</span>)            │        <span style=\"color: #00af00; text-decoration-color: #00af00\">65,792</span> │\n",
       "├─────────────────────────────────┼────────────────────────┼───────────────┤\n",
       "│ dropout_1 (<span style=\"color: #0087ff; text-decoration-color: #0087ff\">Dropout</span>)             │ (<span style=\"color: #00d7ff; text-decoration-color: #00d7ff\">None</span>, <span style=\"color: #00af00; text-decoration-color: #00af00\">256</span>)            │             <span style=\"color: #00af00; text-decoration-color: #00af00\">0</span> │\n",
       "├─────────────────────────────────┼────────────────────────┼───────────────┤\n",
       "│ dense_3 (<span style=\"color: #0087ff; text-decoration-color: #0087ff\">Dense</span>)                 │ (<span style=\"color: #00d7ff; text-decoration-color: #00d7ff\">None</span>, <span style=\"color: #00af00; text-decoration-color: #00af00\">1</span>)              │           <span style=\"color: #00af00; text-decoration-color: #00af00\">257</span> │\n",
       "└─────────────────────────────────┴────────────────────────┴───────────────┘\n",
       "</pre>\n"
      ],
      "text/plain": [
       "┏━━━━━━━━━━━━━━━━━━━━━━━━━━━━━━━━━┳━━━━━━━━━━━━━━━━━━━━━━━━┳━━━━━━━━━━━━━━━┓\n",
       "┃\u001b[1m \u001b[0m\u001b[1mLayer (type)                   \u001b[0m\u001b[1m \u001b[0m┃\u001b[1m \u001b[0m\u001b[1mOutput Shape          \u001b[0m\u001b[1m \u001b[0m┃\u001b[1m \u001b[0m\u001b[1m      Param #\u001b[0m\u001b[1m \u001b[0m┃\n",
       "┡━━━━━━━━━━━━━━━━━━━━━━━━━━━━━━━━━╇━━━━━━━━━━━━━━━━━━━━━━━━╇━━━━━━━━━━━━━━━┩\n",
       "│ dense (\u001b[38;5;33mDense\u001b[0m)                   │ (\u001b[38;5;45mNone\u001b[0m, \u001b[38;5;34m256\u001b[0m)            │         \u001b[38;5;34m3,840\u001b[0m │\n",
       "├─────────────────────────────────┼────────────────────────┼───────────────┤\n",
       "│ dense_1 (\u001b[38;5;33mDense\u001b[0m)                 │ (\u001b[38;5;45mNone\u001b[0m, \u001b[38;5;34m256\u001b[0m)            │        \u001b[38;5;34m65,792\u001b[0m │\n",
       "├─────────────────────────────────┼────────────────────────┼───────────────┤\n",
       "│ dropout (\u001b[38;5;33mDropout\u001b[0m)               │ (\u001b[38;5;45mNone\u001b[0m, \u001b[38;5;34m256\u001b[0m)            │             \u001b[38;5;34m0\u001b[0m │\n",
       "├─────────────────────────────────┼────────────────────────┼───────────────┤\n",
       "│ dense_2 (\u001b[38;5;33mDense\u001b[0m)                 │ (\u001b[38;5;45mNone\u001b[0m, \u001b[38;5;34m256\u001b[0m)            │        \u001b[38;5;34m65,792\u001b[0m │\n",
       "├─────────────────────────────────┼────────────────────────┼───────────────┤\n",
       "│ dropout_1 (\u001b[38;5;33mDropout\u001b[0m)             │ (\u001b[38;5;45mNone\u001b[0m, \u001b[38;5;34m256\u001b[0m)            │             \u001b[38;5;34m0\u001b[0m │\n",
       "├─────────────────────────────────┼────────────────────────┼───────────────┤\n",
       "│ dense_3 (\u001b[38;5;33mDense\u001b[0m)                 │ (\u001b[38;5;45mNone\u001b[0m, \u001b[38;5;34m1\u001b[0m)              │           \u001b[38;5;34m257\u001b[0m │\n",
       "└─────────────────────────────────┴────────────────────────┴───────────────┘\n"
      ]
     },
     "metadata": {},
     "output_type": "display_data"
    },
    {
     "data": {
      "text/html": [
       "<pre style=\"white-space:pre;overflow-x:auto;line-height:normal;font-family:Menlo,'DejaVu Sans Mono',consolas,'Courier New',monospace\"><span style=\"font-weight: bold\"> Total params: </span><span style=\"color: #00af00; text-decoration-color: #00af00\">135,681</span> (530.00 KB)\n",
       "</pre>\n"
      ],
      "text/plain": [
       "\u001b[1m Total params: \u001b[0m\u001b[38;5;34m135,681\u001b[0m (530.00 KB)\n"
      ]
     },
     "metadata": {},
     "output_type": "display_data"
    },
    {
     "data": {
      "text/html": [
       "<pre style=\"white-space:pre;overflow-x:auto;line-height:normal;font-family:Menlo,'DejaVu Sans Mono',consolas,'Courier New',monospace\"><span style=\"font-weight: bold\"> Trainable params: </span><span style=\"color: #00af00; text-decoration-color: #00af00\">135,681</span> (530.00 KB)\n",
       "</pre>\n"
      ],
      "text/plain": [
       "\u001b[1m Trainable params: \u001b[0m\u001b[38;5;34m135,681\u001b[0m (530.00 KB)\n"
      ]
     },
     "metadata": {},
     "output_type": "display_data"
    },
    {
     "data": {
      "text/html": [
       "<pre style=\"white-space:pre;overflow-x:auto;line-height:normal;font-family:Menlo,'DejaVu Sans Mono',consolas,'Courier New',monospace\"><span style=\"font-weight: bold\"> Non-trainable params: </span><span style=\"color: #00af00; text-decoration-color: #00af00\">0</span> (0.00 B)\n",
       "</pre>\n"
      ],
      "text/plain": [
       "\u001b[1m Non-trainable params: \u001b[0m\u001b[38;5;34m0\u001b[0m (0.00 B)\n"
      ]
     },
     "metadata": {},
     "output_type": "display_data"
    }
   ],
   "source": [
    "from tensorflow import keras\n",
    "\n",
    "model = keras.Sequential(\n",
    "    [\n",
    "        keras.layers.Dense(\n",
    "            256, activation=\"relu\", input_shape=(train_features.shape[-1],)\n",
    "        ),\n",
    "        keras.layers.Dense(256, activation=\"relu\"),\n",
    "        keras.layers.Dropout(0.3),\n",
    "        keras.layers.Dense(256, activation=\"relu\"),\n",
    "        keras.layers.Dropout(0.3),\n",
    "        keras.layers.Dense(1, activation=\"sigmoid\"),\n",
    "    ]\n",
    ")\n",
    "model.summary()"
   ]
  },
  {
   "cell_type": "markdown",
   "id": "a4ee5e7c",
   "metadata": {},
   "source": [
    "### Train the model with class_weight argument"
   ]
  },
  {
   "cell_type": "code",
   "execution_count": 18,
   "id": "a7feb54d",
   "metadata": {},
   "outputs": [
    {
     "name": "stdout",
     "output_type": "stream",
     "text": [
      "Epoch 1/30\n",
      "4/4 - 4s - 965ms/step - fn: 588.0000 - fp: 2860.0000 - loss: 1.7104e-04 - precision: 0.2893 - recall: 0.6644 - tn: 3260.0000 - tp: 1164.0000 - val_fn: 52.0000 - val_fp: 795.0000 - val_loss: 0.6290 - val_precision: 0.3205 - val_recall: 0.8782 - val_tn: 747.0000 - val_tp: 375.0000\n",
      "Epoch 2/30\n",
      "4/4 - 0s - 52ms/step - fn: 236.0000 - fp: 3042.0000 - loss: 1.5667e-04 - precision: 0.3326 - recall: 0.8653 - tn: 3078.0000 - tp: 1516.0000 - val_fn: 47.0000 - val_fp: 755.0000 - val_loss: 0.6233 - val_precision: 0.3348 - val_recall: 0.8899 - val_tn: 787.0000 - val_tp: 380.0000\n",
      "Epoch 3/30\n",
      "4/4 - 0s - 47ms/step - fn: 233.0000 - fp: 2869.0000 - loss: 1.4778e-04 - precision: 0.3462 - recall: 0.8670 - tn: 3251.0000 - tp: 1519.0000 - val_fn: 50.0000 - val_fp: 691.0000 - val_loss: 0.5689 - val_precision: 0.3530 - val_recall: 0.8829 - val_tn: 851.0000 - val_tp: 377.0000\n",
      "Epoch 4/30\n",
      "4/4 - 0s - 48ms/step - fn: 257.0000 - fp: 2562.0000 - loss: 1.4212e-04 - precision: 0.3685 - recall: 0.8533 - tn: 3558.0000 - tp: 1495.0000 - val_fn: 49.0000 - val_fp: 695.0000 - val_loss: 0.5594 - val_precision: 0.3523 - val_recall: 0.8852 - val_tn: 847.0000 - val_tp: 378.0000\n",
      "Epoch 5/30\n",
      "4/4 - 0s - 45ms/step - fn: 226.0000 - fp: 2580.0000 - loss: 1.3680e-04 - precision: 0.3717 - recall: 0.8710 - tn: 3540.0000 - tp: 1526.0000 - val_fn: 49.0000 - val_fp: 487.0000 - val_loss: 0.5171 - val_precision: 0.4370 - val_recall: 0.8852 - val_tn: 1055.0000 - val_tp: 378.0000\n",
      "Epoch 6/30\n",
      "4/4 - 0s - 44ms/step - fn: 240.0000 - fp: 1933.0000 - loss: 1.3003e-04 - precision: 0.4389 - recall: 0.8630 - tn: 4187.0000 - tp: 1512.0000 - val_fn: 58.0000 - val_fp: 391.0000 - val_loss: 0.4846 - val_precision: 0.4855 - val_recall: 0.8642 - val_tn: 1151.0000 - val_tp: 369.0000\n",
      "Epoch 7/30\n",
      "4/4 - 0s - 43ms/step - fn: 245.0000 - fp: 1601.0000 - loss: 1.2015e-04 - precision: 0.4849 - recall: 0.8602 - tn: 4519.0000 - tp: 1507.0000 - val_fn: 51.0000 - val_fp: 344.0000 - val_loss: 0.4568 - val_precision: 0.5222 - val_recall: 0.8806 - val_tn: 1198.0000 - val_tp: 376.0000\n",
      "Epoch 8/30\n",
      "4/4 - 0s - 63ms/step - fn: 242.0000 - fp: 1454.0000 - loss: 1.1505e-04 - precision: 0.5094 - recall: 0.8619 - tn: 4666.0000 - tp: 1510.0000 - val_fn: 47.0000 - val_fp: 340.0000 - val_loss: 0.4539 - val_precision: 0.5278 - val_recall: 0.8899 - val_tn: 1202.0000 - val_tp: 380.0000\n",
      "Epoch 9/30\n",
      "4/4 - 0s - 59ms/step - fn: 242.0000 - fp: 1359.0000 - loss: 1.0842e-04 - precision: 0.5263 - recall: 0.8619 - tn: 4761.0000 - tp: 1510.0000 - val_fn: 65.0000 - val_fp: 275.0000 - val_loss: 0.3638 - val_precision: 0.5683 - val_recall: 0.8478 - val_tn: 1267.0000 - val_tp: 362.0000\n",
      "Epoch 10/30\n",
      "4/4 - 0s - 55ms/step - fn: 267.0000 - fp: 1318.0000 - loss: 1.1398e-04 - precision: 0.5298 - recall: 0.8476 - tn: 4802.0000 - tp: 1485.0000 - val_fn: 44.0000 - val_fp: 342.0000 - val_loss: 0.4340 - val_precision: 0.5283 - val_recall: 0.8970 - val_tn: 1200.0000 - val_tp: 383.0000\n",
      "Epoch 11/30\n",
      "4/4 - 0s - 60ms/step - fn: 214.0000 - fp: 1370.0000 - loss: 1.0368e-04 - precision: 0.5289 - recall: 0.8779 - tn: 4750.0000 - tp: 1538.0000 - val_fn: 64.0000 - val_fp: 275.0000 - val_loss: 0.3393 - val_precision: 0.5690 - val_recall: 0.8501 - val_tn: 1267.0000 - val_tp: 363.0000\n",
      "Epoch 12/30\n",
      "4/4 - 0s - 54ms/step - fn: 194.0000 - fp: 1390.0000 - loss: 1.0416e-04 - precision: 0.5285 - recall: 0.8893 - tn: 4730.0000 - tp: 1558.0000 - val_fn: 65.0000 - val_fp: 250.0000 - val_loss: 0.3177 - val_precision: 0.5915 - val_recall: 0.8478 - val_tn: 1292.0000 - val_tp: 362.0000\n",
      "Epoch 13/30\n",
      "4/4 - 0s - 48ms/step - fn: 196.0000 - fp: 1341.0000 - loss: 1.0219e-04 - precision: 0.5371 - recall: 0.8881 - tn: 4779.0000 - tp: 1556.0000 - val_fn: 29.0000 - val_fp: 335.0000 - val_loss: 0.3933 - val_precision: 0.5430 - val_recall: 0.9321 - val_tn: 1207.0000 - val_tp: 398.0000\n",
      "Epoch 14/30\n",
      "4/4 - 0s - 55ms/step - fn: 184.0000 - fp: 1286.0000 - loss: 9.7381e-05 - precision: 0.5494 - recall: 0.8950 - tn: 4834.0000 - tp: 1568.0000 - val_fn: 24.0000 - val_fp: 367.0000 - val_loss: 0.4426 - val_precision: 0.5234 - val_recall: 0.9438 - val_tn: 1175.0000 - val_tp: 403.0000\n",
      "Epoch 15/30\n",
      "4/4 - 0s - 44ms/step - fn: 175.0000 - fp: 1317.0000 - loss: 9.5959e-05 - precision: 0.5449 - recall: 0.9001 - tn: 4803.0000 - tp: 1577.0000 - val_fn: 22.0000 - val_fp: 394.0000 - val_loss: 0.4782 - val_precision: 0.5069 - val_recall: 0.9485 - val_tn: 1148.0000 - val_tp: 405.0000\n",
      "Epoch 16/30\n",
      "4/4 - 0s - 49ms/step - fn: 169.0000 - fp: 1331.0000 - loss: 9.4976e-05 - precision: 0.5432 - recall: 0.9035 - tn: 4789.0000 - tp: 1583.0000 - val_fn: 23.0000 - val_fp: 380.0000 - val_loss: 0.4727 - val_precision: 0.5153 - val_recall: 0.9461 - val_tn: 1162.0000 - val_tp: 404.0000\n",
      "Epoch 17/30\n",
      "4/4 - 0s - 54ms/step - fn: 154.0000 - fp: 1331.0000 - loss: 9.4683e-05 - precision: 0.5456 - recall: 0.9121 - tn: 4789.0000 - tp: 1598.0000 - val_fn: 26.0000 - val_fp: 342.0000 - val_loss: 0.3718 - val_precision: 0.5397 - val_recall: 0.9391 - val_tn: 1200.0000 - val_tp: 401.0000\n",
      "Epoch 18/30\n",
      "4/4 - 0s - 45ms/step - fn: 121.0000 - fp: 1462.0000 - loss: 9.1795e-05 - precision: 0.5273 - recall: 0.9309 - tn: 4658.0000 - tp: 1631.0000 - val_fn: 38.0000 - val_fp: 282.0000 - val_loss: 0.3118 - val_precision: 0.5797 - val_recall: 0.9110 - val_tn: 1260.0000 - val_tp: 389.0000\n",
      "Epoch 19/30\n",
      "4/4 - 0s - 50ms/step - fn: 146.0000 - fp: 1294.0000 - loss: 8.9265e-05 - precision: 0.5538 - recall: 0.9167 - tn: 4826.0000 - tp: 1606.0000 - val_fn: 32.0000 - val_fp: 300.0000 - val_loss: 0.3356 - val_precision: 0.5683 - val_recall: 0.9251 - val_tn: 1242.0000 - val_tp: 395.0000\n",
      "Epoch 20/30\n",
      "4/4 - 0s - 53ms/step - fn: 136.0000 - fp: 1270.0000 - loss: 8.9384e-05 - precision: 0.5599 - recall: 0.9224 - tn: 4850.0000 - tp: 1616.0000 - val_fn: 29.0000 - val_fp: 300.0000 - val_loss: 0.3419 - val_precision: 0.5702 - val_recall: 0.9321 - val_tn: 1242.0000 - val_tp: 398.0000\n",
      "Epoch 21/30\n",
      "4/4 - 0s - 51ms/step - fn: 146.0000 - fp: 1257.0000 - loss: 8.8919e-05 - precision: 0.5610 - recall: 0.9167 - tn: 4863.0000 - tp: 1606.0000 - val_fn: 25.0000 - val_fp: 312.0000 - val_loss: 0.3529 - val_precision: 0.5630 - val_recall: 0.9415 - val_tn: 1230.0000 - val_tp: 402.0000\n",
      "Epoch 22/30\n",
      "4/4 - 0s - 55ms/step - fn: 140.0000 - fp: 1230.0000 - loss: 8.8171e-05 - precision: 0.5672 - recall: 0.9201 - tn: 4890.0000 - tp: 1612.0000 - val_fn: 30.0000 - val_fp: 294.0000 - val_loss: 0.3413 - val_precision: 0.5745 - val_recall: 0.9297 - val_tn: 1248.0000 - val_tp: 397.0000\n",
      "Epoch 23/30\n",
      "4/4 - 0s - 57ms/step - fn: 140.0000 - fp: 1268.0000 - loss: 8.8360e-05 - precision: 0.5597 - recall: 0.9201 - tn: 4852.0000 - tp: 1612.0000 - val_fn: 22.0000 - val_fp: 326.0000 - val_loss: 0.3581 - val_precision: 0.5540 - val_recall: 0.9485 - val_tn: 1216.0000 - val_tp: 405.0000\n",
      "Epoch 24/30\n",
      "4/4 - 0s - 69ms/step - fn: 141.0000 - fp: 1264.0000 - loss: 8.9264e-05 - precision: 0.5603 - recall: 0.9195 - tn: 4856.0000 - tp: 1611.0000 - val_fn: 17.0000 - val_fp: 381.0000 - val_loss: 0.4134 - val_precision: 0.5183 - val_recall: 0.9602 - val_tn: 1161.0000 - val_tp: 410.0000\n",
      "Epoch 25/30\n",
      "4/4 - 0s - 51ms/step - fn: 150.0000 - fp: 1195.0000 - loss: 8.6840e-05 - precision: 0.5728 - recall: 0.9144 - tn: 4925.0000 - tp: 1602.0000 - val_fn: 14.0000 - val_fp: 407.0000 - val_loss: 0.4473 - val_precision: 0.5037 - val_recall: 0.9672 - val_tn: 1135.0000 - val_tp: 413.0000\n",
      "Epoch 26/30\n",
      "4/4 - 0s - 48ms/step - fn: 133.0000 - fp: 1328.0000 - loss: 8.9389e-05 - precision: 0.5494 - recall: 0.9241 - tn: 4792.0000 - tp: 1619.0000 - val_fn: 21.0000 - val_fp: 377.0000 - val_loss: 0.4415 - val_precision: 0.5185 - val_recall: 0.9508 - val_tn: 1165.0000 - val_tp: 406.0000\n",
      "Epoch 27/30\n",
      "4/4 - 0s - 59ms/step - fn: 117.0000 - fp: 1425.0000 - loss: 9.4340e-05 - precision: 0.5343 - recall: 0.9332 - tn: 4695.0000 - tp: 1635.0000 - val_fn: 51.0000 - val_fp: 267.0000 - val_loss: 0.2977 - val_precision: 0.5848 - val_recall: 0.8806 - val_tn: 1275.0000 - val_tp: 376.0000\n",
      "Epoch 28/30\n",
      "4/4 - 0s - 51ms/step - fn: 137.0000 - fp: 1378.0000 - loss: 9.1817e-05 - precision: 0.5396 - recall: 0.9218 - tn: 4742.0000 - tp: 1615.0000 - val_fn: 18.0000 - val_fp: 429.0000 - val_loss: 0.4130 - val_precision: 0.4881 - val_recall: 0.9578 - val_tn: 1113.0000 - val_tp: 409.0000\n",
      "Epoch 29/30\n",
      "4/4 - 0s - 49ms/step - fn: 136.0000 - fp: 1325.0000 - loss: 8.7978e-05 - precision: 0.5495 - recall: 0.9224 - tn: 4795.0000 - tp: 1616.0000 - val_fn: 37.0000 - val_fp: 286.0000 - val_loss: 0.3331 - val_precision: 0.5769 - val_recall: 0.9133 - val_tn: 1256.0000 - val_tp: 390.0000\n",
      "Epoch 30/30\n",
      "4/4 - 0s - 45ms/step - fn: 136.0000 - fp: 1266.0000 - loss: 8.6049e-05 - precision: 0.5607 - recall: 0.9224 - tn: 4854.0000 - tp: 1616.0000 - val_fn: 25.0000 - val_fp: 339.0000 - val_loss: 0.3529 - val_precision: 0.5425 - val_recall: 0.9415 - val_tn: 1203.0000 - val_tp: 402.0000\n"
     ]
    },
    {
     "data": {
      "text/plain": [
       "<keras.src.callbacks.history.History at 0x14c64a490>"
      ]
     },
     "execution_count": 18,
     "metadata": {},
     "output_type": "execute_result"
    }
   ],
   "source": [
    "metrics = [\n",
    "    keras.metrics.FalseNegatives(name=\"fn\"),\n",
    "    keras.metrics.FalsePositives(name=\"fp\"),\n",
    "    keras.metrics.TrueNegatives(name=\"tn\"),\n",
    "    keras.metrics.TruePositives(name=\"tp\"),\n",
    "    keras.metrics.Precision(name=\"precision\"),\n",
    "    keras.metrics.Recall(name=\"recall\"),\n",
    "]\n",
    "\n",
    "model.compile(\n",
    "    optimizer=keras.optimizers.Adam(1e-2), loss=\"binary_crossentropy\", metrics=metrics\n",
    ")\n",
    "\n",
    "callbacks = [keras.callbacks.ModelCheckpoint(\"fraud_model_at_epoch_{epoch}.keras\")]\n",
    "class_weight = {0: weight_for_0, 1: weight_for_1}\n",
    "\n",
    "model.fit(\n",
    "    train_features,\n",
    "    train_targets,\n",
    "    batch_size=2048,\n",
    "    epochs=30,\n",
    "    verbose=2,\n",
    "    callbacks=callbacks,\n",
    "    validation_data=(val_features, val_targets),\n",
    "    class_weight=class_weight,\n",
    ")"
   ]
  },
  {
   "cell_type": "markdown",
   "id": "5162605c",
   "metadata": {},
   "source": [
    "### Conclusion\n",
    "\n",
    "At the end of training, out of 1969 validation transactions,number of fraud cases in validation data: 304 (16.40% of total),we are:\n",
    "\n",
    "- Correctly identifying 402 of them as fraudulent\n",
    "- Missing 35 fraudulent transactions\n",
    "- At the cost of incorrectly flagging 339 legitimate transactions.\n",
    "- the recall score of validation sample is 0.9451. Because of our data is an imbalanced dataset, so we choose to use recall as our main metric.\n",
    "\n",
    "In the real world, one would put an even higher weight on class 1, so as to reflect that False Negatives are more costly than False Positives."
   ]
  }
 ],
 "metadata": {
  "kernelspec": {
   "display_name": "Python 3 (ipykernel)",
   "language": "python",
   "name": "python3"
  },
  "language_info": {
   "codemirror_mode": {
    "name": "ipython",
    "version": 3
   },
   "file_extension": ".py",
   "mimetype": "text/x-python",
   "name": "python",
   "nbconvert_exporter": "python",
   "pygments_lexer": "ipython3",
   "version": "3.11.4"
  }
 },
 "nbformat": 4,
 "nbformat_minor": 5
}
